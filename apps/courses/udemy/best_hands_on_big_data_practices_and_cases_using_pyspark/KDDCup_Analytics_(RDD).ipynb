{
  "cells": [
    {
      "cell_type": "markdown",
      "metadata": {
        "id": "9nrTNalW81Uo"
      },
      "source": [
        "# **KDDCup Data Analytics with PySpark RDD: A structured case study**\n",
        "\n",
        "### Udemy Course: Best Hands-on Big Data Practices and Use Cases using PySpark\n",
        "\n",
        "### Author: Amin Karami (PhD, FHEA)\n",
        "\n",
        "##### data source: http://kdd.ics.uci.edu/databases/kddcup99/kddcup99.html\n"
      ]
    },
    {
      "cell_type": "code",
      "execution_count": null,
      "metadata": {
        "id": "ghTJybh281Ur"
      },
      "outputs": [],
      "source": [
        "########## ONLY in Colab ##########\n",
        "!pip3 install pyspark\n",
        "########## ONLY in Colab ##########"
      ]
    },
    {
      "cell_type": "code",
      "execution_count": null,
      "metadata": {
        "id": "Lv29DcwT81Ut"
      },
      "outputs": [],
      "source": [
        "########## ONLY in Ubuntu Machine ##########\n",
        "# Load Spark engine\n",
        "!pip3 install -q findspark\n",
        "import findspark\n",
        "findspark.init()\n",
        "########## ONLY in Ubuntu Machine ##########"
      ]
    },
    {
      "cell_type": "code",
      "execution_count": null,
      "metadata": {
        "id": "06d5GLeN81Ut"
      },
      "outputs": [],
      "source": [
        "from pyspark import SparkContext, SparkConf\n",
        "\n",
        "# Initializing Spark\n",
        "conf = SparkConf().setAppName(\"KDDCup_PySpark\").setMaster(\"local[*]\")\n",
        "sc = SparkContext(conf=conf)\n",
        "print(sc)\n",
        "print(\"Ready to go!\")"
      ]
    },
    {
      "cell_type": "code",
      "source": [
        "from google.colab import drive\n",
        "drive.mount('/content/drive')"
      ],
      "metadata": {
        "id": "JJkJ_MLgLgkW"
      },
      "execution_count": null,
      "outputs": []
    },
    {
      "cell_type": "code",
      "execution_count": null,
      "metadata": {
        "id": "UGorHKN581Uu"
      },
      "outputs": [],
      "source": [
        "# Read and Load Data to Spark\n",
        "# Data source: http://kdd.ics.uci.edu/databases/kddcup99/kddcup99.html\n"
      ]
    },
    {
      "cell_type": "code",
      "execution_count": null,
      "metadata": {
        "id": "6O_dV30S81Uu"
      },
      "outputs": [],
      "source": [
        "# Repartition and Cache Data:\n"
      ]
    },
    {
      "cell_type": "markdown",
      "metadata": {
        "id": "zl7nmy6S81Uw"
      },
      "source": [
        "## Question 1: Get ten records randomly\n"
      ]
    },
    {
      "cell_type": "code",
      "execution_count": null,
      "metadata": {
        "id": "HG1ypizS81Ux"
      },
      "outputs": [],
      "source": [
        ""
      ]
    },
    {
      "cell_type": "markdown",
      "metadata": {
        "id": "uBgW8XMl81Uv"
      },
      "source": [
        "## Question 2: Count elements"
      ]
    },
    {
      "cell_type": "code",
      "execution_count": null,
      "metadata": {
        "id": "NzJeaegJ81Uw"
      },
      "outputs": [],
      "source": [
        ""
      ]
    },
    {
      "cell_type": "markdown",
      "metadata": {
        "id": "GgSYUgiQ81Ux"
      },
      "source": [
        "## Question 3: Calculate the ratio of `normal` connections\n"
      ]
    },
    {
      "cell_type": "code",
      "execution_count": null,
      "metadata": {
        "id": "4_hnOy9V81Uy"
      },
      "outputs": [],
      "source": [
        ""
      ]
    },
    {
      "cell_type": "markdown",
      "source": [
        "## Question 4: Get the list of labels\n"
      ],
      "metadata": {
        "id": "rxwUmsgvTF-f"
      }
    },
    {
      "cell_type": "code",
      "source": [
        ""
      ],
      "metadata": {
        "id": "wW-9rzraS8O3"
      },
      "execution_count": null,
      "outputs": []
    },
    {
      "cell_type": "markdown",
      "source": [
        "## Question 5: Count the number of connections for each label"
      ],
      "metadata": {
        "id": "EEpDGLMfTrJn"
      }
    },
    {
      "cell_type": "code",
      "source": [
        ""
      ],
      "metadata": {
        "id": "AqrKWeRfTQT_"
      },
      "execution_count": null,
      "outputs": []
    },
    {
      "cell_type": "markdown",
      "source": [
        "## Question 6: Get the connection type with successful `root_shell` connections to servers, where the number of data bytes from source (`src_bytes`) is 500 times more than from server (`dst_bytes`)"
      ],
      "metadata": {
        "id": "5y4bqXJqTh1I"
      }
    },
    {
      "cell_type": "code",
      "source": [
        ""
      ],
      "metadata": {
        "id": "rbWpcyidTgxr"
      },
      "execution_count": null,
      "outputs": []
    },
    {
      "cell_type": "markdown",
      "source": [
        "## Question 7:  Get the list of `Protocols`that are `normal` and `vulnerable to attacks`, where there is NOT `guest login` to the destination addresses\n"
      ],
      "metadata": {
        "id": "3v5KLd-BU2Yw"
      }
    },
    {
      "cell_type": "code",
      "source": [
        ""
      ],
      "metadata": {
        "id": "UqmdBsStU24_"
      },
      "execution_count": null,
      "outputs": []
    },
    {
      "cell_type": "markdown",
      "source": [
        "## Question 8: Get a summary statistics for the sum of `tcp` connections to the same destination IP address (hint: `protocol_type` and `dst_host_count` features)"
      ],
      "metadata": {
        "id": "f4EVFeiDU4tv"
      }
    },
    {
      "cell_type": "code",
      "source": [
        "# Source: https://spark.apache.org/docs/latest/mllib-statistics.html\n"
      ],
      "metadata": {
        "id": "dR4X8MlDU4cn"
      },
      "execution_count": null,
      "outputs": []
    },
    {
      "cell_type": "markdown",
      "source": [
        "## [challenge] Question 9: Filter the number of `icmp`-based attacks for each `service`"
      ],
      "metadata": {
        "id": "vJaQimNaW-_5"
      }
    },
    {
      "cell_type": "code",
      "source": [
        ""
      ],
      "metadata": {
        "id": "6LQg0EjLRMvw"
      },
      "execution_count": null,
      "outputs": []
    }
  ],
  "metadata": {
    "kernelspec": {
      "display_name": "Python 3",
      "language": "python",
      "name": "python3"
    },
    "language_info": {
      "codemirror_mode": {
        "name": "ipython",
        "version": 3
      },
      "file_extension": ".py",
      "mimetype": "text/x-python",
      "name": "python",
      "nbconvert_exporter": "python",
      "pygments_lexer": "ipython3",
      "version": "3.8.3"
    },
    "colab": {
      "name": "KDDCup_Analysis_(RDD).ipynb",
      "provenance": [],
      "collapsed_sections": []
    }
  },
  "nbformat": 4,
  "nbformat_minor": 0
}