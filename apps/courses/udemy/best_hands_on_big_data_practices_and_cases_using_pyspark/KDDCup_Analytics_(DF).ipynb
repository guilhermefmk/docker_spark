{
  "cells": [
    {
      "cell_type": "markdown",
      "metadata": {
        "id": "cLSkeQia0M9X"
      },
      "source": [
        "# **KDDCup Data Analytics with PySpark DF: A structured case study**\n",
        "\n",
        "### Udemy Course: Best Hands-on Big Data Practices and Use Cases using PySpark\n",
        "\n",
        "### Author: Amin Karami (PhD, FHEA)\n",
        "\n",
        "##### data source: http://kdd.ics.uci.edu/databases/kddcup99/kddcup99.html"
      ]
    },
    {
      "cell_type": "code",
      "execution_count": null,
      "metadata": {
        "id": "DyGtjbRA0M9k"
      },
      "outputs": [],
      "source": [
        "########## ONLY in Colab ##########\n",
        "!pip3 install pyspark\n",
        "########## ONLY in Colab ##########"
      ]
    },
    {
      "cell_type": "code",
      "execution_count": null,
      "metadata": {
        "id": "9I9MBYnB0M9n"
      },
      "outputs": [],
      "source": [
        "########## ONLY in Ubuntu Machine ##########\n",
        "# Load Spark engine\n",
        "!pip3 install -q findspark\n",
        "import findspark\n",
        "findspark.init()\n",
        "########## ONLY in Ubuntu Machine ##########"
      ]
    },
    {
      "cell_type": "code",
      "execution_count": null,
      "metadata": {
        "id": "RoWdIaas0M9p"
      },
      "outputs": [],
      "source": [
        "# import SparkSession\n",
        "\n",
        "from pyspark.sql import SparkSession\n",
        "spark = SparkSession.builder.master(\"local[*]\").getOrCreate()\n",
        "\n",
        "spark"
      ]
    },
    {
      "cell_type": "code",
      "execution_count": null,
      "metadata": {
        "id": "Ybgw2UK00M9t"
      },
      "outputs": [],
      "source": [
        "# Read and Load Data to Spark\n",
        "# Data source: http://kdd.ics.uci.edu/databases/kddcup99/kddcup99.html\n"
      ]
    },
    {
      "cell_type": "code",
      "source": [
        "# Print data\n"
      ],
      "metadata": {
        "id": "rfYt71m61lAY"
      },
      "execution_count": null,
      "outputs": []
    },
    {
      "cell_type": "code",
      "source": [
        "# Split data (if needed)\n"
      ],
      "metadata": {
        "id": "-uaphlmK2CY1"
      },
      "execution_count": null,
      "outputs": []
    },
    {
      "cell_type": "code",
      "execution_count": null,
      "metadata": {
        "id": "GBZhKUhW0M9u"
      },
      "outputs": [],
      "source": [
        "# Increase the number of partitions (if needed) and Build a Temp table\n"
      ]
    },
    {
      "cell_type": "markdown",
      "metadata": {
        "id": "sntXiEB40M93"
      },
      "source": [
        "## Question 1: Count the number of connections for each label"
      ]
    },
    {
      "cell_type": "code",
      "execution_count": null,
      "metadata": {
        "id": "4vmGeQD10M94"
      },
      "outputs": [],
      "source": [
        ""
      ]
    },
    {
      "cell_type": "markdown",
      "source": [
        "## Question 2:  Get the list of `Protocols`that are `normal` and `vulnerable to attacks`, where there is NOT `guest login` to the destination addresses\n"
      ],
      "metadata": {
        "id": "A_H0qa3ODouT"
      }
    },
    {
      "cell_type": "code",
      "source": [
        ""
      ],
      "metadata": {
        "id": "JP30RhzWDpWR"
      },
      "execution_count": null,
      "outputs": []
    },
    {
      "cell_type": "markdown",
      "source": [
        "## Question 3: Apply Some Descriptive Statistics on Numerical Data"
      ],
      "metadata": {
        "id": "iE-B9k2JFoBX"
      }
    },
    {
      "cell_type": "code",
      "source": [
        "# PySpark provides built-in standard Aggregate functions defines in DataFrame API\n"
      ],
      "metadata": {
        "id": "FQlYGA9aEYkn"
      },
      "execution_count": null,
      "outputs": []
    },
    {
      "cell_type": "markdown",
      "source": [
        "## Question 4: A Descriptive Stats based on `Protocols` and `Labels`\n"
      ],
      "metadata": {
        "id": "ktk6Q722Ihho"
      }
    },
    {
      "cell_type": "code",
      "source": [
        ""
      ],
      "metadata": {
        "id": "Vh8S4ZDMJuQs"
      },
      "execution_count": null,
      "outputs": []
    },
    {
      "cell_type": "markdown",
      "source": [
        "## Question 5: Get the frquency of `services` for the original `UDP and ICMP` based `attacks`\n",
        "(hint 1: original attacks: `[dos, u2r, r2l, probe]`)\n",
        "\n",
        "(hint 2: returns `services` and `protocols` center justified)"
      ],
      "metadata": {
        "id": "SKYjJFVDIp2_"
      }
    },
    {
      "cell_type": "code",
      "source": [
        ""
      ],
      "metadata": {
        "id": "eqr9zv5iIqLe"
      },
      "execution_count": null,
      "outputs": []
    }
  ],
  "metadata": {
    "kernelspec": {
      "display_name": "Python 3",
      "language": "python",
      "name": "python3"
    },
    "language_info": {
      "codemirror_mode": {
        "name": "ipython",
        "version": 3
      },
      "file_extension": ".py",
      "mimetype": "text/x-python",
      "name": "python",
      "nbconvert_exporter": "python",
      "pygments_lexer": "ipython3",
      "version": "3.8.3"
    },
    "colab": {
      "name": "KDDCup_Analysis_(DF).ipynb",
      "provenance": [],
      "collapsed_sections": []
    }
  },
  "nbformat": 4,
  "nbformat_minor": 0
}