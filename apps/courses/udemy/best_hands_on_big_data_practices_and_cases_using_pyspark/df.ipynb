{
 "cells": [
  {
   "cell_type": "code",
   "execution_count": 1,
   "metadata": {},
   "outputs": [],
   "source": [
    "from pyspark import SparkContext, SparkConf"
   ]
  },
  {
   "cell_type": "code",
   "execution_count": 2,
   "metadata": {},
   "outputs": [
    {
     "name": "stderr",
     "output_type": "stream",
     "text": [
      "24/10/01 15:08:46 WARN Utils: Your hostname, guilherme-linux resolves to a loopback address: 127.0.1.1; using 192.168.2.154 instead (on interface enp5s0)\n",
      "24/10/01 15:08:46 WARN Utils: Set SPARK_LOCAL_IP if you need to bind to another address\n",
      "Setting default log level to \"WARN\".\n",
      "To adjust logging level use sc.setLogLevel(newLevel). For SparkR, use setLogLevel(newLevel).\n",
      "24/10/01 15:08:46 WARN NativeCodeLoader: Unable to load native-hadoop library for your platform... using builtin-java classes where applicable\n"
     ]
    }
   ],
   "source": [
    "conf = SparkConf().setAppName(\"DataFrame\").setMaster(\"local[4]\")\n",
    "sc = SparkContext(conf=conf)\n",
    "\n",
    "from pyspark.sql import SparkSession\n",
    "spark = SparkSession.builder.appName(\"DataFrame\").getOrCreate()\n"
   ]
  },
  {
   "cell_type": "code",
   "execution_count": 2,
   "metadata": {},
   "outputs": [
    {
     "name": "stderr",
     "output_type": "stream",
     "text": [
      "24/10/01 16:12:09 WARN Utils: Your hostname, guilherme-linux resolves to a loopback address: 127.0.1.1; using 192.168.2.154 instead (on interface enp5s0)\n",
      "24/10/01 16:12:09 WARN Utils: Set SPARK_LOCAL_IP if you need to bind to another address\n",
      "Setting default log level to \"WARN\".\n",
      "To adjust logging level use sc.setLogLevel(newLevel). For SparkR, use setLogLevel(newLevel).\n",
      "24/10/01 16:12:10 WARN NativeCodeLoader: Unable to load native-hadoop library for your platform... using builtin-java classes where applicable\n"
     ]
    }
   ],
   "source": [
    "from pyspark.sql import SparkSession\n",
    "\n",
    "# Criando a SparkSession com configurações customizadas\n",
    "spark = (SparkSession.builder\n",
    "         .appName(\"DataFrame\")  # Nome do aplicativo\n",
    "         .master(\"local[4]\")  # Configurando memória dos executores\n",
    "        #  .config(\"spark.executor.cores\", \"2\")    # Definindo o número de núcleos por executor\n",
    "        #  .config(\"spark.sql.shuffle.partitions\", \"50\")  # Definindo número de partições para operações de shuffle\n",
    "         .getOrCreate())\n",
    "\n"
   ]
  },
  {
   "cell_type": "code",
   "execution_count": 6,
   "metadata": {},
   "outputs": [
    {
     "data": {
      "text/html": [
       "\n",
       "            <div>\n",
       "                <p><b>SparkSession - in-memory</b></p>\n",
       "                \n",
       "        <div>\n",
       "            <p><b>SparkContext</b></p>\n",
       "\n",
       "            <p><a href=\"http://192.168.2.154:4040\">Spark UI</a></p>\n",
       "\n",
       "            <dl>\n",
       "              <dt>Version</dt>\n",
       "                <dd><code>v3.5.3</code></dd>\n",
       "              <dt>Master</dt>\n",
       "                <dd><code>local[4]</code></dd>\n",
       "              <dt>AppName</dt>\n",
       "                <dd><code>DataFrame</code></dd>\n",
       "            </dl>\n",
       "        </div>\n",
       "        \n",
       "            </div>\n",
       "        "
      ],
      "text/plain": [
       "<pyspark.sql.session.SparkSession at 0x7f2a7e4076a0>"
      ]
     },
     "execution_count": 6,
     "metadata": {},
     "output_type": "execute_result"
    }
   ],
   "source": [
    "spark"
   ]
  },
  {
   "cell_type": "code",
   "execution_count": 3,
   "metadata": {},
   "outputs": [],
   "source": [
    "from pyspark.sql.types import StructType, StructField , StringType , IntegerType "
   ]
  },
  {
   "cell_type": "code",
   "execution_count": 10,
   "metadata": {},
   "outputs": [],
   "source": [
    "schema = StructType([\n",
    "    StructField(\"IDasd\", StringType(), True),\n",
    "    StructField(\"Name\", StringType(), True),\n",
    "    StructField(\"Age\", StringType(), True),\n",
    "    StructField(\"Photo\", StringType(), True),\n",
    "    StructField(\"Nationality\", StringType(), True),\n",
    "    StructField(\"Flag\", StringType(), True),\n",
    "    StructField(\"Overall\", StringType(), True),\n",
    "    StructField(\"Potential\", StringType(), True),\n",
    "    StructField(\"Club\", StringType(), True),\n",
    "    StructField(\"Club Logo\", StringType(), True) ,\n",
    "    StructField(\"Value\", StringType(), True),\n",
    "    StructField(\"Wage\", StringType(), True),\n",
    "    StructField(\"Special\", StringType(), True),\n",
    "    StructField(\"Acceleration\", StringType(), True),\n",
    "    StructField(\"Aggression\", StringType(), True),\n",
    "    StructField(\"Agility\", StringType(), True),\n",
    "    StructField(\"Bala control\", StringType(), True) ,\n",
    "    StructField(\"Composure\", StringType(), True),\n",
    "    StructField(\"Crossing\", StringType(), True),\n",
    "    StructField(\"Curve\", StringType(), True),\n",
    "    StructField(\"Dribbling\", StringType(), True),\n",
    "    StructField(\"Finishing\", StringType(), True),\n",
    "    StructField(\"Free kick accuracy\",StringType(), True) ,\n",
    "    StructField(\"GK diving\", StringType(), True) ,\n",
    "    StructField(\"GK handling\", StringType(), True) ,\n",
    "    StructField(\"GK kicking\", StringType(), True) ,\n",
    "    StructField(\"GK positioning\", StringType(), True) ,\n",
    "    StructField(\"GK reflexes\", StringType(), True) ,\n",
    "    StructField(\"Heading accuracy\", StringType(), True) ,\n",
    "    StructField(\"Interceptions\", StringType(), True),\n",
    "    StructField(\"Jumping\", StringType(), True),\n",
    "    StructField(\"Long passing\", StringType(), True) ,\n",
    "    StructField(\"Long shots\", StringType(), True) ,\n",
    "    StructField(\"Marking\", StringType(), True),\n",
    "    StructField(\"Penalties\", StringType(), True),\n",
    "    StructField(\"Positioning\", StringType(), True),\n",
    "    StructField(\"Reactions\", StringType(), True),\n",
    "    StructField(\"Short passing\", StringType(), True) ,\n",
    "    StructField(\"Shot power\", StringType(), True) ,\n",
    "    StructField(\"Sliding tackle\", StringType(), True) ,\n",
    "    StructField(\"Sprint speed\", StringType(), True) ,\n",
    "    StructField(\"Stamina\", StringType(), True),\n",
    "    StructField(\"Standing tackle\", StringType(), True) ,\n",
    "    StructField(\"Strength\", StringType(), True),\n",
    "    StructField(\"Vision\", StringType(), True),\n",
    "    StructField(\"Volleys\", StringType(), True),\n",
    "    StructField(\"CAM\", StringType(), True),\n",
    "    StructField(\"CB\", StringType(), True),\n",
    "    StructField(\"CDM\", StringType(), True),\n",
    "    StructField(\"CF\", StringType(), True),\n",
    "    StructField(\"CM\", StringType(), True),\n",
    "    StructField(\"ID\", StringType(), True),\n",
    "    StructField(\"LAM\", StringType(), True),\n",
    "    StructField(\"LB\", StringType(), True),\n",
    "    StructField(\"LCB\", StringType(), True),\n",
    "    StructField(\"LCM\", StringType(), True),\n",
    "    StructField(\"LDM\", StringType(), True),\n",
    "    StructField(\"LF\", StringType(), True),\n",
    "    StructField(\"LM\", StringType(), True),\n",
    "    StructField(\"LS\", StringType(), True),\n",
    "    StructField(\"LW\", StringType(), True),\n",
    "    StructField(\"LWB\", StringType(), True),\n",
    "    StructField(\"Preferred Positions\", StringType(), True) ,\n",
    "    StructField(\"RAM\", StringType(), True),\n",
    "    StructField(\"RB\", StringType(), True),\n",
    "    StructField(\"RCB\", StringType(), True),\n",
    "    StructField(\"RCM\", StringType(), True),\n",
    "    StructField(\"RDM\", StringType(), True),\n",
    "    StructField(\"RF\", StringType(), True),\n",
    "    StructField(\"RM\", StringType(), True),\n",
    "    StructField(\"RS\", StringType(), True),\n",
    "    StructField(\"RW\", StringType(), True),\n",
    "    StructField(\"RWB\", StringType(), True),\n",
    "    StructField(\"ST\", StringType(), True)\n",
    "])"
   ]
  },
  {
   "cell_type": "code",
   "execution_count": 17,
   "metadata": {},
   "outputs": [],
   "source": [
    "df = spark.read.csv(\"/home/guilhermefmk/Documentos/labs_spark/data/CompleteDataset.csv\", header=True, inferSchema=True)"
   ]
  },
  {
   "cell_type": "code",
   "execution_count": 18,
   "metadata": {},
   "outputs": [
    {
     "name": "stdout",
     "output_type": "stream",
     "text": [
      "+---+-----------------+---+--------------------+-----------+--------------------+-------+---------+-------------------+--------------------+------+-----+-------+------------+----------+-------+-------+------------+---------+--------+-----+---------+---------+------------------+---------+-----------+----------+--------------+-----------+----------------+-------------+-------+------------+----------+-------+---------+-----------+---------+-------------+----------+--------------+------------+-------+---------------+--------+------+-------+----+----+----+----+----+------+----+----+----+----+----+----+----+----+----+----+-------------------+----+----+----+----+----+----+----+----+----+----+----+\n",
      "|_c0|             Name|Age|               Photo|Nationality|                Flag|Overall|Potential|               Club|           Club Logo| Value| Wage|Special|Acceleration|Aggression|Agility|Balance|Ball control|Composure|Crossing|Curve|Dribbling|Finishing|Free kick accuracy|GK diving|GK handling|GK kicking|GK positioning|GK reflexes|Heading accuracy|Interceptions|Jumping|Long passing|Long shots|Marking|Penalties|Positioning|Reactions|Short passing|Shot power|Sliding tackle|Sprint speed|Stamina|Standing tackle|Strength|Vision|Volleys| CAM|  CB| CDM|  CF|  CM|    ID| LAM|  LB| LCB| LCM| LDM|  LF|  LM|  LS|  LW| LWB|Preferred Positions| RAM|  RB| RCB| RCM| RDM|  RF|  RM|  RS|  RW| RWB|  ST|\n",
      "+---+-----------------+---+--------------------+-----------+--------------------+-------+---------+-------------------+--------------------+------+-----+-------+------------+----------+-------+-------+------------+---------+--------+-----+---------+---------+------------------+---------+-----------+----------+--------------+-----------+----------------+-------------+-------+------------+----------+-------+---------+-----------+---------+-------------+----------+--------------+------------+-------+---------------+--------+------+-------+----+----+----+----+----+------+----+----+----+----+----+----+----+----+----+----+-------------------+----+----+----+----+----+----+----+----+----+----+----+\n",
      "|  0|Cristiano Ronaldo| 32|https://cdn.sofif...|   Portugal|https://cdn.sofif...|     94|       94|     Real Madrid CF|https://cdn.sofif...|€95.5M|€565K|   2228|          89|        63|     89|     63|          93|       95|      85|   81|       91|       94|                76|        7|         11|        15|            14|         11|              88|           29|     95|          77|        92|     22|       85|         95|       96|           83|        94|            23|          91|     92|             31|      80|    85|     88|89.0|53.0|62.0|91.0|82.0| 20801|89.0|61.0|53.0|82.0|62.0|91.0|89.0|92.0|91.0|66.0|             ST LW |89.0|61.0|53.0|82.0|62.0|91.0|89.0|92.0|91.0|66.0|92.0|\n",
      "|  1|         L. Messi| 30|https://cdn.sofif...|  Argentina|https://cdn.sofif...|     93|       93|       FC Barcelona|https://cdn.sofif...| €105M|€565K|   2154|          92|        48|     90|     95|          95|       96|      77|   89|       97|       95|                90|        6|         11|        15|            14|          8|              71|           22|     68|          87|        88|     13|       74|         93|       95|           88|        85|            26|          87|     73|             28|      59|    90|     85|92.0|45.0|59.0|92.0|84.0|158023|92.0|57.0|45.0|84.0|59.0|92.0|90.0|88.0|91.0|62.0|                RW |92.0|57.0|45.0|84.0|59.0|92.0|90.0|88.0|91.0|62.0|88.0|\n",
      "|  2|           Neymar| 25|https://cdn.sofif...|     Brazil|https://cdn.sofif...|     92|       94|Paris Saint-Germain|https://cdn.sofif...| €123M|€280K|   2100|          94|        56|     96|     82|          95|       92|      75|   81|       96|       89|                84|        9|          9|        15|            15|         11|              62|           36|     61|          75|        77|     21|       81|         90|       88|           81|        80|            33|          90|     78|             24|      53|    80|     83|88.0|46.0|59.0|88.0|79.0|190871|88.0|59.0|46.0|79.0|59.0|88.0|87.0|84.0|89.0|64.0|                LW |88.0|59.0|46.0|79.0|59.0|88.0|87.0|84.0|89.0|64.0|84.0|\n",
      "|  3|        L. Suárez| 30|https://cdn.sofif...|    Uruguay|https://cdn.sofif...|     92|       92|       FC Barcelona|https://cdn.sofif...|  €97M|€510K|   2291|          88|        78|     86|     60|          91|       83|      77|   86|       86|       94|                84|       27|         25|        31|            33|         37|              77|           41|     69|          64|        86|     30|       85|         92|       93|           83|        87|            38|          77|     89|             45|      80|    84|     88|87.0|58.0|65.0|88.0|80.0|176580|87.0|64.0|58.0|80.0|65.0|88.0|85.0|88.0|87.0|68.0|                ST |87.0|64.0|58.0|80.0|65.0|88.0|85.0|88.0|87.0|68.0|88.0|\n",
      "|  4|         M. Neuer| 31|https://cdn.sofif...|    Germany|https://cdn.sofif...|     92|       92|   FC Bayern Munich|https://cdn.sofif...|  €61M|€230K|   1493|          58|        29|     52|     35|          48|       70|      15|   14|       30|       13|                11|       91|         90|        95|            91|         89|              25|           30|     78|          59|        16|     10|       47|         12|       85|           55|        25|            11|          61|     44|             10|      83|    70|     11|NULL|NULL|NULL|NULL|NULL|167495|NULL|NULL|NULL|NULL|NULL|NULL|NULL|NULL|NULL|NULL|                GK |NULL|NULL|NULL|NULL|NULL|NULL|NULL|NULL|NULL|NULL|NULL|\n",
      "|  5|   R. Lewandowski| 28|https://cdn.sofif...|     Poland|https://cdn.sofif...|     91|       91|   FC Bayern Munich|https://cdn.sofif...|  €92M|€355K|   2143|          79|        80|     78|     80|          89|       87|      62|   77|       85|       91|                84|       15|          6|        12|             8|         10|              85|           39|     84|          65|        83|     25|       81|         91|       91|           83|        88|            19|          83|     79|             42|      84|    78|     87|84.0|57.0|62.0|87.0|78.0|188545|84.0|58.0|57.0|78.0|62.0|87.0|82.0|88.0|84.0|61.0|                ST |84.0|58.0|57.0|78.0|62.0|87.0|82.0|88.0|84.0|61.0|88.0|\n",
      "|  6|           De Gea| 26|https://cdn.sofif...|      Spain|https://cdn.sofif...|     90|       92|  Manchester United|https://cdn.sofif...|€64.5M|€215K|   1458|          57|        38|     60|     43|          42|       64|      17|   21|       18|       13|                19|       90|         85|        87|            86|         90|              21|           30|     67|          51|        12|     13|       40|         12|       88|           50|        31|            13|          58|     40|             21|      64|    68|     13|NULL|NULL|NULL|NULL|NULL|193080|NULL|NULL|NULL|NULL|NULL|NULL|NULL|NULL|NULL|NULL|                GK |NULL|NULL|NULL|NULL|NULL|NULL|NULL|NULL|NULL|NULL|NULL|\n",
      "|  7|        E. Hazard| 26|https://cdn.sofif...|    Belgium|https://cdn.sofif...|     90|       91|            Chelsea|https://cdn.sofif...|€90.5M|€295K|   2096|          93|        54|     93|     91|          92|       87|      80|   82|       93|       83|                79|       11|         12|         6|             8|          8|              57|           41|     59|          81|        82|     25|       86|         85|       85|           86|        79|            22|          87|     79|             27|      65|    86|     79|88.0|47.0|61.0|87.0|81.0|183277|88.0|59.0|47.0|81.0|61.0|87.0|87.0|82.0|88.0|64.0|                LW |88.0|59.0|47.0|81.0|61.0|87.0|87.0|82.0|88.0|64.0|82.0|\n",
      "|  8|         T. Kroos| 27|https://cdn.sofif...|    Germany|https://cdn.sofif...|     90|       90|     Real Madrid CF|https://cdn.sofif...|  €79M|€340K|   2165|          60|        60|     71|     69|          89|       85|      85|   85|       79|       76|                84|       10|         11|        13|             7|         10|              54|           85|     32|          93|        90|     63|       73|         79|       86|           90|        87|            69|          52|     77|             82|      74|    88|     82|83.0|72.0|82.0|81.0|87.0|182521|83.0|76.0|72.0|87.0|82.0|81.0|81.0|77.0|80.0|78.0|            CDM CM |83.0|76.0|72.0|87.0|82.0|81.0|81.0|77.0|80.0|78.0|77.0|\n",
      "|  9|       G. Higuaín| 29|https://cdn.sofif...|  Argentina|https://cdn.sofif...|     90|       90|           Juventus|https://cdn.sofif...|  €77M|€275K|   1961|          78|        50|     75|     69|          85|       86|      68|   74|       84|       91|                62|        5|         12|         7|             5|         10|              86|           20|     79|          59|        82|     12|       70|         92|       88|           75|        88|            18|          80|     72|             22|      85|    70|     88|81.0|46.0|52.0|84.0|71.0|167664|81.0|51.0|46.0|71.0|52.0|84.0|79.0|87.0|82.0|55.0|                ST |81.0|51.0|46.0|71.0|52.0|84.0|79.0|87.0|82.0|55.0|87.0|\n",
      "| 10|     Sergio Ramos| 31|https://cdn.sofif...|      Spain|https://cdn.sofif...|     90|       90|     Real Madrid CF|https://cdn.sofif...|  €52M|€310K|   2153|          75|        84|     79|     60|          84|       80|      66|   73|       61|       60|                67|       11|          8|         9|             7|         11|              91|           88|     93|          72|        55|     86|       68|         52|       85|           78|        79|            91|          77|     84|             89|      81|    63|     66|70.0|87.0|83.0|70.0|74.0|155862|70.0|84.0|87.0|74.0|83.0|70.0|71.0|72.0|69.0|81.0|                CB |70.0|84.0|87.0|74.0|83.0|70.0|71.0|72.0|69.0|81.0|72.0|\n",
      "| 11|     K. De Bruyne| 26|https://cdn.sofif...|    Belgium|https://cdn.sofif...|     89|       92|    Manchester City|https://cdn.sofif...|  €83M|€285K|   2162|          76|        68|     80|     75|          87|       84|      90|   83|       85|       83|                83|       15|         13|         5|            10|         13|              53|           56|     65|          84|        86|     30|       77|         84|       88|           90|        85|            40|          75|     87|             51|      73|    90|     82|86.0|57.0|70.0|85.0|84.0|192985|86.0|66.0|57.0|84.0|70.0|85.0|85.0|81.0|85.0|71.0|         RM CM CAM |86.0|66.0|57.0|84.0|70.0|85.0|85.0|81.0|85.0|71.0|81.0|\n",
      "| 12|      T. Courtois| 25|https://cdn.sofif...|    Belgium|https://cdn.sofif...|     89|       92|            Chelsea|https://cdn.sofif...|  €59M|€190K|   1282|          46|        23|     61|     45|          23|       52|      14|   19|       13|       14|                11|       85|         91|        69|            86|         88|              13|           15|     68|          31|        17|     11|       27|         13|       81|           32|        36|            16|          52|     38|             18|      70|    44|     12|NULL|NULL|NULL|NULL|NULL|192119|NULL|NULL|NULL|NULL|NULL|NULL|NULL|NULL|NULL|NULL|                GK |NULL|NULL|NULL|NULL|NULL|NULL|NULL|NULL|NULL|NULL|NULL|\n",
      "| 13|       A. Sánchez| 28|https://cdn.sofif...|      Chile|https://cdn.sofif...|     89|       89|            Arsenal|https://cdn.sofif...|€67.5M|€265K|   2181|          88|        80|     90|     87|          87|       86|      80|   78|       90|       85|                78|       10|         10|        15|            12|         13|              70|           42|     85|          73|        82|     30|       77|         86|       87|           81|        84|            35|          84|     85|             39|      72|    83|     83|85.0|56.0|64.0|85.0|79.0|184941|85.0|62.0|56.0|79.0|64.0|85.0|85.0|83.0|86.0|66.0|       RM LW ST LM |85.0|62.0|56.0|79.0|64.0|85.0|85.0|83.0|86.0|66.0|83.0|\n",
      "| 14|        L. Modrić| 31|https://cdn.sofif...|    Croatia|https://cdn.sofif...|     89|       89|     Real Madrid CF|https://cdn.sofif...|  €57M|€340K|   2228|          75|        62|     93|     94|          92|       84|      78|   79|       86|       71|                77|       13|          9|         7|            14|          9|              55|           76|     67|          83|        82|     66|       80|         79|       88|           92|        73|            73|          71|     82|             80|      58|    90|     74|86.0|72.0|80.0|83.0|86.0|177003|86.0|78.0|72.0|86.0|80.0|83.0|84.0|76.0|83.0|80.0|            CDM CM |86.0|78.0|72.0|86.0|80.0|83.0|84.0|76.0|83.0|80.0|76.0|\n",
      "| 15|          G. Bale| 27|https://cdn.sofif...|      Wales|https://cdn.sofif...|     89|       89|     Real Madrid CF|https://cdn.sofif...|€69.5M|€370K|   2263|          93|        65|     77|     65|          87|       85|      87|   86|       89|       87|                85|       15|         15|        11|             5|          6|              86|           59|     85|          80|        90|     51|       76|         86|       87|           86|        91|            52|          95|     76|             55|      80|    79|     76|86.0|67.0|71.0|87.0|81.0|173731|86.0|72.0|67.0|81.0|71.0|87.0|87.0|87.0|87.0|74.0|                RW |86.0|72.0|67.0|81.0|71.0|87.0|87.0|87.0|87.0|74.0|87.0|\n",
      "| 16|        S. Agüero| 29|https://cdn.sofif...|  Argentina|https://cdn.sofif...|     89|       89|    Manchester City|https://cdn.sofif...|€66.5M|€325K|   2074|          90|        63|     86|     91|          89|       90|      70|   82|       89|       90|                72|       13|         15|         6|            11|         14|              68|           24|     80|          63|        83|     13|       83|         91|       89|           79|        88|            12|          84|     74|             20|      74|    83|     85|85.0|44.0|54.0|87.0|75.0|153079|85.0|52.0|44.0|75.0|54.0|87.0|84.0|86.0|86.0|57.0|                ST |85.0|52.0|44.0|75.0|54.0|87.0|84.0|86.0|86.0|57.0|86.0|\n",
      "| 17|     G. Chiellini| 32|https://cdn.sofif...|      Italy|https://cdn.sofif...|     89|       89|           Juventus|https://cdn.sofif...|  €38M|€225K|   1867|          68|        92|     59|     64|          57|       82|      58|   60|       58|       33|                31|        3|          3|         2|             4|          3|              84|           88|     89|          59|        49|     92|       50|         28|       82|           59|        78|            90|          78|     68|             92|      91|    50|     45|55.0|86.0|76.0|55.0|60.0|138956|55.0|78.0|86.0|60.0|76.0|55.0|58.0|59.0|56.0|75.0|                CB |55.0|78.0|86.0|60.0|76.0|55.0|58.0|59.0|56.0|75.0|59.0|\n",
      "| 18|        G. Buffon| 39|https://cdn.sofif...|      Italy|https://cdn.sofif...|     89|       89|           Juventus|https://cdn.sofif...| €4.5M|€110K|   1335|          49|        38|     55|     49|          28|       70|      13|   20|       26|       15|                13|       89|         88|        74|            90|         84|              13|           28|     75|          35|        13|     10|       22|         12|       80|           37|        39|            11|          43|     39|             11|      69|    50|     17|NULL|NULL|NULL|NULL|NULL|  1179|NULL|NULL|NULL|NULL|NULL|NULL|NULL|NULL|NULL|NULL|                GK |NULL|NULL|NULL|NULL|NULL|NULL|NULL|NULL|NULL|NULL|NULL|\n",
      "| 19|        P. Dybala| 23|https://cdn.sofif...|  Argentina|https://cdn.sofif...|     88|       93|           Juventus|https://cdn.sofif...|  €79M|€215K|   2063|          88|        48|     91|     85|          93|       84|      80|   88|       92|       85|                84|        5|          4|         4|             5|          8|              68|           24|     75|          71|        88|     14|       86|         84|       84|           83|        82|            20|          84|     83|             20|      65|    84|     88|86.0|43.0|55.0|86.0|78.0|211110|86.0|55.0|43.0|78.0|55.0|86.0|86.0|83.0|87.0|60.0|            ST CAM |86.0|55.0|43.0|78.0|55.0|86.0|86.0|83.0|87.0|60.0|83.0|\n",
      "+---+-----------------+---+--------------------+-----------+--------------------+-------+---------+-------------------+--------------------+------+-----+-------+------------+----------+-------+-------+------------+---------+--------+-----+---------+---------+------------------+---------+-----------+----------+--------------+-----------+----------------+-------------+-------+------------+----------+-------+---------+-----------+---------+-------------+----------+--------------+------------+-------+---------------+--------+------+-------+----+----+----+----+----+------+----+----+----+----+----+----+----+----+----+----+-------------------+----+----+----+----+----+----+----+----+----+----+----+\n",
      "only showing top 20 rows\n",
      "\n"
     ]
    },
    {
     "name": "stderr",
     "output_type": "stream",
     "text": [
      "24/10/01 16:20:21 WARN CSVHeaderChecker: CSV header does not conform to the schema.\n",
      " Header: , Name, Age, Photo, Nationality, Flag, Overall, Potential, Club, Club Logo, Value, Wage, Special, Acceleration, Aggression, Agility, Balance, Ball control, Composure, Crossing, Curve, Dribbling, Finishing, Free kick accuracy, GK diving, GK handling, GK kicking, GK positioning, GK reflexes, Heading accuracy, Interceptions, Jumping, Long passing, Long shots, Marking, Penalties, Positioning, Reactions, Short passing, Shot power, Sliding tackle, Sprint speed, Stamina, Standing tackle, Strength, Vision, Volleys, CAM, CB, CDM, CF, CM, ID, LAM, LB, LCB, LCM, LDM, LF, LM, LS, LW, LWB, Preferred Positions, RAM, RB, RCB, RCM, RDM, RF, RM, RS, RW, RWB, ST\n",
      " Schema: _c0, Name, Age, Photo, Nationality, Flag, Overall, Potential, Club, Club Logo, Value, Wage, Special, Acceleration, Aggression, Agility, Balance, Ball control, Composure, Crossing, Curve, Dribbling, Finishing, Free kick accuracy, GK diving, GK handling, GK kicking, GK positioning, GK reflexes, Heading accuracy, Interceptions, Jumping, Long passing, Long shots, Marking, Penalties, Positioning, Reactions, Short passing, Shot power, Sliding tackle, Sprint speed, Stamina, Standing tackle, Strength, Vision, Volleys, CAM, CB, CDM, CF, CM, ID, LAM, LB, LCB, LCM, LDM, LF, LM, LS, LW, LWB, Preferred Positions, RAM, RB, RCB, RCM, RDM, RF, RM, RS, RW, RWB, ST\n",
      "Expected: _c0 but found: \n",
      "CSV file: file:///home/guilhermefmk/Documentos/labs_spark/data/CompleteDataset.csv\n"
     ]
    }
   ],
   "source": [
    "df.show()"
   ]
  },
  {
   "cell_type": "code",
   "execution_count": 19,
   "metadata": {},
   "outputs": [],
   "source": [
    "df = df.repartition(4)"
   ]
  },
  {
   "cell_type": "code",
   "execution_count": 20,
   "metadata": {},
   "outputs": [
    {
     "name": "stderr",
     "output_type": "stream",
     "text": [
      "24/10/01 16:20:31 WARN CSVHeaderChecker: CSV header does not conform to the schema.\n",
      " Header: , Name, Age, Photo, Nationality, Flag, Overall, Potential, Club, Club Logo, Value, Wage, Special, Acceleration, Aggression, Agility, Balance, Ball control, Composure, Crossing, Curve, Dribbling, Finishing, Free kick accuracy, GK diving, GK handling, GK kicking, GK positioning, GK reflexes, Heading accuracy, Interceptions, Jumping, Long passing, Long shots, Marking, Penalties, Positioning, Reactions, Short passing, Shot power, Sliding tackle, Sprint speed, Stamina, Standing tackle, Strength, Vision, Volleys, CAM, CB, CDM, CF, CM, ID, LAM, LB, LCB, LCM, LDM, LF, LM, LS, LW, LWB, Preferred Positions, RAM, RB, RCB, RCM, RDM, RF, RM, RS, RW, RWB, ST\n",
      " Schema: _c0, Name, Age, Photo, Nationality, Flag, Overall, Potential, Club, Club Logo, Value, Wage, Special, Acceleration, Aggression, Agility, Balance, Ball control, Composure, Crossing, Curve, Dribbling, Finishing, Free kick accuracy, GK diving, GK handling, GK kicking, GK positioning, GK reflexes, Heading accuracy, Interceptions, Jumping, Long passing, Long shots, Marking, Penalties, Positioning, Reactions, Short passing, Shot power, Sliding tackle, Sprint speed, Stamina, Standing tackle, Strength, Vision, Volleys, CAM, CB, CDM, CF, CM, ID, LAM, LB, LCB, LCM, LDM, LF, LM, LS, LW, LWB, Preferred Positions, RAM, RB, RCB, RCM, RDM, RF, RM, RS, RW, RWB, ST\n",
      "Expected: _c0 but found: \n",
      "CSV file: file:///home/guilhermefmk/Documentos/labs_spark/data/CompleteDataset.csv\n"
     ]
    },
    {
     "name": "stdout",
     "output_type": "stream",
     "text": [
      "Número total de partições: 4\n",
      "Número de dados em cada partição: [4495, 4496, 4495, 4495]\n"
     ]
    }
   ],
   "source": [
    "# 1. Obter o número total de partições\n",
    "num_partitions = df.rdd.getNumPartitions()\n",
    "print(f\"Número total de partições: {num_partitions}\")\n",
    "\n",
    "# 2. Verificar o número de dados em cada partição\n",
    "partitions_count = df.rdd.mapPartitions(lambda x: [sum(1 for _ in x)]).collect()\n",
    "print(\"Número de dados em cada partição:\", partitions_count)\n",
    "\n",
    "# # 3. Calcular o tamanho em MB de cada partição\n",
    "# partitions_size = df.rdd.mapPartitions(lambda x: [sum(len(line.encode('utf-8')) for line in x) / (1024 * 1024)]).collect()\n",
    "# print(\"Tamanho em MB de cada partição:\", partitions_size)"
   ]
  },
  {
   "cell_type": "code",
   "execution_count": 21,
   "metadata": {},
   "outputs": [],
   "source": [
    "df = df.withColumnRenamed(\"_c0\", \"ID\")\\\n",
    "    .withColumnRenamed(\"Bala control\", \"ball_control\")"
   ]
  },
  {
   "cell_type": "code",
   "execution_count": 22,
   "metadata": {},
   "outputs": [
    {
     "name": "stderr",
     "output_type": "stream",
     "text": [
      "24/10/01 16:20:43 WARN CSVHeaderChecker: CSV header does not conform to the schema.\n",
      " Header: , Name, Age, Photo, Nationality, Flag, Overall, Potential, Club, Club Logo, Value, Wage, Special, Acceleration, Aggression, Agility, Balance, Ball control, Composure, Crossing, Curve, Dribbling, Finishing, Free kick accuracy, GK diving, GK handling, GK kicking, GK positioning, GK reflexes, Heading accuracy, Interceptions, Jumping, Long passing, Long shots, Marking, Penalties, Positioning, Reactions, Short passing, Shot power, Sliding tackle, Sprint speed, Stamina, Standing tackle, Strength, Vision, Volleys, CAM, CB, CDM, CF, CM, ID, LAM, LB, LCB, LCM, LDM, LF, LM, LS, LW, LWB, Preferred Positions, RAM, RB, RCB, RCM, RDM, RF, RM, RS, RW, RWB, ST\n",
      " Schema: _c0, Name, Age, Photo, Nationality, Flag, Overall, Potential, Club, Club Logo, Value, Wage, Special, Acceleration, Aggression, Agility, Balance, Ball control, Composure, Crossing, Curve, Dribbling, Finishing, Free kick accuracy, GK diving, GK handling, GK kicking, GK positioning, GK reflexes, Heading accuracy, Interceptions, Jumping, Long passing, Long shots, Marking, Penalties, Positioning, Reactions, Short passing, Shot power, Sliding tackle, Sprint speed, Stamina, Standing tackle, Strength, Vision, Volleys, CAM, CB, CDM, CF, CM, ID, LAM, LB, LCB, LCM, LDM, LF, LM, LS, LW, LWB, Preferred Positions, RAM, RB, RCB, RCM, RDM, RF, RM, RS, RW, RWB, ST\n",
      "Expected: _c0 but found: \n",
      "CSV file: file:///home/guilhermefmk/Documentos/labs_spark/data/CompleteDataset.csv\n"
     ]
    },
    {
     "name": "stdout",
     "output_type": "stream",
     "text": [
      "+----+---------------+---+--------------------+-------------+--------------------+-------+---------+--------------------+--------------------+------+-----+-------+------------+----------+-------+-------+------------+---------+--------+-----+---------+---------+------------------+---------+-----------+----------+--------------+-----------+----------------+-------------+-------+------------+----------+-------+---------+-----------+---------+-------------+----------+--------------+------------+-------+---------------+--------+------+-------+----+----+----+----+----+------+----+----+----+----+----+----+----+----+----+----+-------------------+----+----+----+----+----+----+----+----+----+----+----+\n",
      "|  ID|           Name|Age|               Photo|  Nationality|                Flag|Overall|Potential|                Club|           Club Logo| Value| Wage|Special|Acceleration|Aggression|Agility|Balance|Ball control|Composure|Crossing|Curve|Dribbling|Finishing|Free kick accuracy|GK diving|GK handling|GK kicking|GK positioning|GK reflexes|Heading accuracy|Interceptions|Jumping|Long passing|Long shots|Marking|Penalties|Positioning|Reactions|Short passing|Shot power|Sliding tackle|Sprint speed|Stamina|Standing tackle|Strength|Vision|Volleys| CAM|  CB| CDM|  CF|  CM|    ID| LAM|  LB| LCB| LCM| LDM|  LF|  LM|  LS|  LW| LWB|Preferred Positions| RAM|  RB| RCB| RCM| RDM|  RF|  RM|  RS|  RW| RWB|  ST|\n",
      "+----+---------------+---+--------------------+-------------+--------------------+-------+---------+--------------------+--------------------+------+-----+-------+------------+----------+-------+-------+------------+---------+--------+-----+---------+---------+------------------+---------+-----------+----------+--------------+-----------+----------------+-------------+-------+------------+----------+-------+---------+-----------+---------+-------------+----------+--------------+------------+-------+---------------+--------+------+-------+----+----+----+----+----+------+----+----+----+----+----+----+----+----+----+----+-------------------+----+----+----+----+----+----+----+----+----+----+----+\n",
      "|4566|   H. Salazores| 29|https://cdn.sofif...|        Chile|https://cdn.sofif...|     71|       71|  Santiago Wanderers|https://cdn.sofif...| €1.8M|  €4K|   1915|          78|        64|     81|     77|          69|       69|      71|   58|       66|       48|                60|       14|         11|        11|            11|         11|              50|           73|     69|          51|        68|     66|       55|         63|       71|           67|        75|            72|          74|     76|             68|      64|    59|     64|65.0|67.0|67.0|65.0|65.0|160172|65.0|70.0|67.0|65.0|67.0|65.0|67.0|63.0|67.0|71.0|                LB |65.0|70.0|67.0|65.0|67.0|65.0|67.0|63.0|67.0|71.0|63.0|\n",
      "|7502|      J. Michel| 25|https://cdn.sofif...|       France|https://cdn.sofif...|     68|       71|    Sporting Lokeren|https://cdn.sofif...| €1.1M|  €9K|   1805|          47|        58|     71|     70|          70|       73|      71|   73|       65|       51|                71|       13|          9|        14|            14|         12|              56|           66|     48|          73|        71|     46|       66|         57|       65|           71|        69|            54|          42|     67|             56|      56|    67|     66|65.0|57.0|63.0|62.0|67.0|212169|65.0|60.0|57.0|67.0|63.0|62.0|63.0|60.0|63.0|62.0|     LM CAM CDM CM |65.0|60.0|57.0|67.0|63.0|62.0|63.0|60.0|63.0|62.0|60.0|\n",
      "|8437|         O. Şam| 31|https://cdn.sofif...|       Turkey|https://cdn.sofif...|     67|       67|   Gençlerbirliği SK|https://cdn.sofif...| €500K| €10K|   1660|          65|        68|     73|     66|          63|       62|      61|   61|       62|       34|                41|       14|          7|        13|             9|         11|              68|           64|     65|          60|        41|     67|       35|         36|       67|           63|        49|            67|          69|     65|             69|      67|    38|     22|55.0|67.0|64.0|53.0|57.0|125103|55.0|66.0|67.0|57.0|64.0|53.0|58.0|53.0|56.0|65.0|                RB |55.0|66.0|67.0|57.0|64.0|53.0|58.0|53.0|56.0|65.0|53.0|\n",
      "|4167|      J. Campos| 29|https://cdn.sofif...|      Bolivia|https://cdn.sofif...|     71|       71|                NULL|https://cdn.sofif...|    €0|   €0|   1758|          66|        39|     71|     79|          78|       64|      64|   78|       72|       58|                75|        9|         16|        15|            10|          7|              45|           29|     57|          64|        74|     24|       81|         61|       63|           72|        68|            23|          64|     78|             21|      62|    72|     63|70.0|39.0|51.0|68.0|66.0|196913|70.0|48.0|39.0|66.0|51.0|68.0|69.0|64.0|68.0|53.0|         CM LM CAM |70.0|48.0|39.0|66.0|51.0|68.0|69.0|64.0|68.0|53.0|64.0|\n",
      "|6913|       R. Grzyb| 34|https://cdn.sofif...|       Poland|https://cdn.sofif...|     68|       68|Jagiellonia Biały...|https://cdn.sofif...| €270K|  €6K|   1779|          68|        70|     73|     77|          62|       74|      65|   57|       61|       38|                17|        8|         13|        11|             8|         10|              56|           82|     81|          64|        67|     61|       52|         64|       61|           64|        68|            69|          33|     72|             64|      69|    56|     58|60.0|66.0|67.0|58.0|63.0|182844|60.0|65.0|66.0|63.0|67.0|58.0|60.0|57.0|59.0|65.0|            RB CDM |60.0|65.0|66.0|63.0|67.0|58.0|60.0|57.0|59.0|65.0|57.0|\n",
      "|3544|Adrián Burnabão| 33|https://cdn.sofif...|       Brazil|https://cdn.sofif...|     72|       72|Santos Futebol Clube|https://cdn.sofif...| €1.9M| €14K|   1772|          53|        48|     75|     74|          75|       73|      73|   68|       75|       58|                74|       11|         13|         7|             7|         15|              42|           30|     68|          71|        72|     25|       75|         60|       71|           76|        72|            21|          72|     64|             23|      58|    76|     70|71.0|41.0|52.0|69.0|68.0|230484|71.0|48.0|41.0|68.0|52.0|69.0|70.0|64.0|70.0|53.0|            CF CAM |71.0|48.0|41.0|68.0|52.0|69.0|70.0|64.0|70.0|53.0|64.0|\n",
      "|6905|     Javi Flaño| 32|https://cdn.sofif...|        Spain|https://cdn.sofif...|     68|       68|          CA Osasuna|https://cdn.sofif...| €500K|  €6K|   1761|          68|        69|     68|     74|          63|       55|      69|   62|       51|       34|                47|       16|          6|        13|            14|         16|              58|           66|     87|          55|        40|     68|       52|         44|       58|           57|        61|            77|          70|     77|             72|      72|    46|     31|53.0|68.0|64.0|53.0|56.0|171578|53.0|68.0|68.0|56.0|64.0|53.0|57.0|53.0|55.0|67.0|     RB RWB LB LWB |53.0|68.0|68.0|56.0|64.0|53.0|57.0|53.0|55.0|67.0|53.0|\n",
      "|7646|        D. Böde| 30|https://cdn.sofif...|      Hungary|https://cdn.sofif...|     68|       68|                NULL|https://cdn.sofif...|    €0|   €0|   1751|          65|        68|     59|     69|          65|       80|      67|   55|       58|       70|                44|        9|         16|         6|             9|         16|              71|           40|     83|          59|        56|     37|       50|         68|       58|           69|        69|            36|          62|     59|             29|      92|    67|     70|64.0|53.0|54.0|65.0|61.0|201714|64.0|51.0|53.0|61.0|54.0|65.0|64.0|67.0|64.0|53.0|             CF ST |64.0|51.0|53.0|61.0|54.0|65.0|64.0|67.0|64.0|53.0|67.0|\n",
      "|6526|      A. Pintér| 29|https://cdn.sofif...|      Hungary|https://cdn.sofif...|     69|       69|SpVgg Greuther Fürth|https://cdn.sofif...| €825K|  €8K|   1684|          52|        75|     53|     50|          63|       73|      43|   35|       58|       36|                48|        6|         14|        13|            14|          7|              72|           68|     59|          66|        35|     64|       52|         52|       65|           71|        71|            61|          53|     73|             70|      84|    61|     40|58.0|69.0|68.0|57.0|63.0|201176|58.0|63.0|69.0|63.0|68.0|57.0|58.0|57.0|55.0|62.0|            CB CDM |58.0|63.0|69.0|63.0|68.0|57.0|58.0|57.0|55.0|62.0|57.0|\n",
      "|7899|  Ricardo Nunes| 31|https://cdn.sofif...| South Africa|https://cdn.sofif...|     67|       67|      Pogoń Szczecin|https://cdn.sofif...| €500K|  €4K|   1819|          78|        53|     70|     73|          65|       70|      70|   71|       62|       45|                67|       14|         10|        11|            14|          7|              43|           65|     68|          65|        63|     59|       59|         64|       57|           59|        64|            65|          77|     75|             68|      65|    54|     39|61.0|61.0|63.0|61.0|62.0|212014|61.0|66.0|61.0|62.0|63.0|61.0|64.0|58.0|63.0|66.0|                LB |61.0|66.0|61.0|62.0|63.0|61.0|64.0|58.0|63.0|66.0|58.0|\n",
      "|9073|      I. Harkes| 22|https://cdn.sofif...|United States|https://cdn.sofif...|     66|       77|         D.C. United|https://cdn.sofif...| €1.1M|  €2K|   1836|          71|        77|     65|     63|          66|       63|      48|   62|       65|       62|                58|        7|         11|        13|             6|          9|              57|           61|     69|          65|        60|     59|       62|         63|       65|           69|        75|            58|          62|     77|             55|      69|    62|     65|65.0|62.0|64.0|65.0|65.0|237385|65.0|62.0|62.0|65.0|64.0|65.0|64.0|65.0|63.0|62.0|            CDM CM |65.0|62.0|62.0|65.0|64.0|65.0|64.0|65.0|63.0|62.0|65.0|\n",
      "|5989|  A. Al Jebreen| 27|https://cdn.sofif...| Saudi Arabia|https://cdn.sofif...|     69|       69|            Al Nassr|https://cdn.sofif...| €875K| €20K|   1875|          63|        64|     64|     60|          69|       66|      67|   57|       64|       67|                55|       13|         10|        13|            12|         14|              61|           68|     57|          68|        68|     67|       57|         65|       65|           71|        63|            61|          64|     68|             67|      79|    69|     65|67.0|67.0|68.0|66.0|68.0|210492|67.0|66.0|67.0|68.0|68.0|66.0|67.0|66.0|66.0|67.0|            CM CDM |67.0|66.0|67.0|68.0|68.0|66.0|67.0|66.0|66.0|67.0|66.0|\n",
      "| 245|    J. Cuadrado| 29|https://cdn.sofif...|     Colombia|https://cdn.sofif...|     82|       82|            Juventus|https://cdn.sofif...|€21.5M|€130K|   2111|          90|        70|     91|     83|          83|       76|      78|   76|       90|       67|                69|        5|          5|        13|             6|          9|              58|           62|     75|          69|        80|     60|       65|         78|       76|           77|        84|            68|          92|     75|             60|      57|    72|     68|79.0|65.0|69.0|80.0|75.0|193082|79.0|72.0|65.0|75.0|69.0|80.0|80.0|76.0|81.0|74.0|                RM |79.0|72.0|65.0|75.0|69.0|80.0|80.0|76.0|81.0|74.0|76.0|\n",
      "|5713|      Kike Sola| 31|https://cdn.sofif...|        Spain|https://cdn.sofif...|     70|       70|Athletic Club de ...|https://cdn.sofif...| €1.6M| €17K|   1717|          56|        72|     65|     68|          73|       63|      59|   59|       71|       68|                59|        6|          9|        10|             4|          2|              78|           43|     59|          55|        65|     40|       63|         71|       61|           71|        69|            42|          47|     30|             45|      76|    56|     65|66.0|56.0|55.0|67.0|61.0|185073|66.0|51.0|56.0|61.0|55.0|67.0|63.0|69.0|65.0|52.0|                ST |66.0|51.0|56.0|61.0|55.0|67.0|63.0|69.0|65.0|52.0|69.0|\n",
      "| 846|     I. Afellay| 31|https://cdn.sofif...|  Netherlands|https://cdn.sofif...|     78|       78|          Stoke City|https://cdn.sofif...|   €9M| €68K|   2027|          76|        59|     76|     77|          82|       78|      78|   79|       80|       71|                75|       14|          7|        10|            12|          8|              46|           62|     75|          74|        76|     36|       70|         73|       75|           81|        75|            58|          74|     70|             67|      64|    75|     72|77.0|60.0|68.0|76.0|76.0|158372|77.0|67.0|60.0|76.0|68.0|76.0|77.0|72.0|77.0|69.0|     CDM LM CM CAM |77.0|67.0|60.0|76.0|68.0|76.0|77.0|72.0|77.0|69.0|72.0|\n",
      "|5238|   P. Gallagher| 32|https://cdn.sofif...|     Scotland|https://cdn.sofif...|     70|       70|   Preston North End|https://cdn.sofif...| €1.3M| €11K|   1826|          59|        53|     68|     60|          73|       66|      78|   78|       65|       62|                75|        8|          8|         7|             9|          6|              52|           49|     60|          76|        74|     23|       65|         65|       63|           72|        79|            45|          61|     71|             60|      67|    75|     60|69.0|53.0|60.0|67.0|69.0|162926|69.0|58.0|53.0|69.0|60.0|67.0|69.0|65.0|68.0|60.0|                CM |69.0|58.0|53.0|69.0|60.0|67.0|69.0|65.0|68.0|60.0|65.0|\n",
      "|4765|       T. Rogne| 27|https://cdn.sofif...|       Norway|https://cdn.sofif...|     71|       73|        IFK Göteborg|https://cdn.sofif...| €2.3M|  €5K|   1530|          45|        67|     52|     46|        56-2|       67|      46|   37|       42|       15|                25|        9|          6|        14|            16|          8|            72-2|           74|     64|          64|        33|   74-4|       44|         36|       72|           57|        47|          65-2|          53|   60-4|           72-4|    81-3|    48|     30|48.0|70.0|66.0|46.0|55.0|185316|48.0|63.0|70.0|55.0|66.0|46.0|49.0|47.0|46.0|61.0|                CB |48.0|63.0|70.0|55.0|66.0|46.0|49.0|47.0|46.0|61.0|47.0|\n",
      "|9052|      D. Samuel| 23|https://cdn.sofif...|      England|https://cdn.sofif...|     66|       74|    Blackburn Rovers|https://cdn.sofif...| €950K|  €4K|   1637|          78|        57|     63|     60|          66|       62|      47|   62|       65|       67|                37|       15|          7|        16|            15|          6|              65|           26|     73|          40|        59|     30|       64|         65|       55|           60|        63|            23|          80|     68|             26|      71|    51|     57|61.0|44.0|45.0|64.0|55.0|207429|61.0|47.0|44.0|55.0|45.0|64.0|62.0|65.0|63.0|48.0|             RM ST |61.0|47.0|44.0|55.0|45.0|64.0|62.0|65.0|63.0|48.0|65.0|\n",
      "|9540|       J. Mæhle| 20|https://cdn.sofif...|      Denmark|https://cdn.sofif...|     66|       75|            KRC Genk|https://cdn.sofif...| €850K|  €3K|   1667|          84|        62|     64|     67|          66|       61|      63|   35|       64|       46|                25|       12|          8|        12|            10|          8|              59|           57|     65|          49|        42|     62|       33|         62|       61|           53|        58|            62|          87|     71|             65|      73|    44|     38|58.0|63.0|60.0|60.0|56.0|234678|58.0|65.0|63.0|56.0|60.0|60.0|62.0|60.0|62.0|64.0|                RB |58.0|65.0|63.0|56.0|60.0|60.0|62.0|60.0|62.0|64.0|60.0|\n",
      "| 887|   M. Fernández| 31|https://cdn.sofif...|        Chile|https://cdn.sofif...|     78|       78|              Necaxa|https://cdn.sofif...|   €9M| €17K|   2037|          79|        50|     79|     81|          87|       74|      78|   80|       89|       62|                82|       11|          8|         5|            10|         11|              50|           60|     66|          76|        78|     52|       72|         74|       74|           80|        80|            56|          73|     69|             60|      57|    78|     70|79.0|60.0|68.0|78.0|77.0|174549|79.0|67.0|60.0|77.0|68.0|78.0|79.0|72.0|79.0|70.0|             CF CM |79.0|67.0|60.0|77.0|68.0|78.0|79.0|72.0|79.0|70.0|72.0|\n",
      "+----+---------------+---+--------------------+-------------+--------------------+-------+---------+--------------------+--------------------+------+-----+-------+------------+----------+-------+-------+------------+---------+--------+-----+---------+---------+------------------+---------+-----------+----------+--------------+-----------+----------------+-------------+-------+------------+----------+-------+---------+-----------+---------+-------------+----------+--------------+------------+-------+---------------+--------+------+-------+----+----+----+----+----+------+----+----+----+----+----+----+----+----+----+----+-------------------+----+----+----+----+----+----+----+----+----+----+----+\n",
      "only showing top 20 rows\n",
      "\n"
     ]
    }
   ],
   "source": [
    "df.na.fill({\"RAM\": \"0\"}).show()"
   ]
  },
  {
   "cell_type": "code",
   "execution_count": 23,
   "metadata": {},
   "outputs": [
    {
     "name": "stdout",
     "output_type": "stream",
     "text": [
      "+-----------------+-------+---------+\n",
      "|             Name|Overall|Potential|\n",
      "+-----------------+-------+---------+\n",
      "|Cristiano Ronaldo|     94|       94|\n",
      "|         L. Messi|     93|       93|\n",
      "|           Neymar|     92|       94|\n",
      "|        L. Suárez|     92|       92|\n",
      "|         M. Neuer|     92|       92|\n",
      "|   R. Lewandowski|     91|       91|\n",
      "|       G. Higuaín|     90|       90|\n",
      "|         T. Kroos|     90|       90|\n",
      "|     Sergio Ramos|     90|       90|\n",
      "|           De Gea|     90|       92|\n",
      "|        E. Hazard|     90|       91|\n",
      "|        L. Modrić|     89|       89|\n",
      "|        G. Buffon|     89|       89|\n",
      "|       A. Sánchez|     89|       89|\n",
      "|     K. De Bruyne|     89|       92|\n",
      "|      T. Courtois|     89|       92|\n",
      "|          G. Bale|     89|       89|\n",
      "|     G. Chiellini|     89|       89|\n",
      "|        S. Agüero|     89|       89|\n",
      "|        A. Robben|     88|       88|\n",
      "+-----------------+-------+---------+\n",
      "only showing top 20 rows\n",
      "\n"
     ]
    }
   ],
   "source": [
    "df.select(\"Name\", \"Overall\", \"Potential\").orderBy(\"Overall\", ascending=False).show()"
   ]
  },
  {
   "cell_type": "code",
   "execution_count": 25,
   "metadata": {},
   "outputs": [
    {
     "name": "stdout",
     "output_type": "stream",
     "text": [
      "+-----------------+-------+---------+\n",
      "|             Name|Overall|Potential|\n",
      "+-----------------+-------+---------+\n",
      "|   R. Lewandowski|     91|       91|\n",
      "|        L. Suárez|     92|       92|\n",
      "|           Neymar|     92|       94|\n",
      "|         M. Neuer|     92|       92|\n",
      "|         L. Messi|     93|       93|\n",
      "|Cristiano Ronaldo|     94|       94|\n",
      "+-----------------+-------+---------+\n",
      "\n"
     ]
    }
   ],
   "source": [
    "df.filter(df[\"Overall\"] > 90).select(\"Name\", \"Overall\", \"Potential\").orderBy(\"Overall\", ascending=True).show()"
   ]
  },
  {
   "cell_type": "code",
   "execution_count": 26,
   "metadata": {},
   "outputs": [
    {
     "name": "stdout",
     "output_type": "stream",
     "text": [
      "+-----------------+-------+---------+\n",
      "|             Name|Overall|Potential|\n",
      "+-----------------+-------+---------+\n",
      "|   R. Lewandowski|     91|       91|\n",
      "|        L. Suárez|     92|       92|\n",
      "|         M. Neuer|     92|       92|\n",
      "|           Neymar|     92|       94|\n",
      "|         L. Messi|     93|       93|\n",
      "|Cristiano Ronaldo|     94|       94|\n",
      "+-----------------+-------+---------+\n",
      "\n"
     ]
    }
   ],
   "source": [
    "df.where(df[\"Overall\"] > 90).select(\"Name\", \"Overall\", \"Potential\").orderBy(\"Overall\", ascending=True).show()"
   ]
  },
  {
   "cell_type": "code",
   "execution_count": 27,
   "metadata": {},
   "outputs": [],
   "source": [
    "df.createGlobalTempView(\"players\")"
   ]
  },
  {
   "cell_type": "code",
   "execution_count": 28,
   "metadata": {},
   "outputs": [],
   "source": [
    "sql_query = \"\"\"\n",
    "SELECT Name, Overall, Potential\n",
    "FROM global_temp.players\n",
    "WHERE Overall > 90\n",
    "ORDER BY Overall\n",
    "\"\"\""
   ]
  },
  {
   "cell_type": "code",
   "execution_count": 29,
   "metadata": {},
   "outputs": [
    {
     "name": "stdout",
     "output_type": "stream",
     "text": [
      "+-----------------+-------+---------+\n",
      "|             Name|Overall|Potential|\n",
      "+-----------------+-------+---------+\n",
      "|   R. Lewandowski|     91|       91|\n",
      "|        L. Suárez|     92|       92|\n",
      "|         M. Neuer|     92|       92|\n",
      "|           Neymar|     92|       94|\n",
      "|         L. Messi|     93|       93|\n",
      "|Cristiano Ronaldo|     94|       94|\n",
      "+-----------------+-------+---------+\n",
      "\n"
     ]
    }
   ],
   "source": [
    "spark.sql(sql_query).show()"
   ]
  }
 ],
 "metadata": {
  "kernelspec": {
   "display_name": "labs_spark",
   "language": "python",
   "name": "python3"
  },
  "language_info": {
   "codemirror_mode": {
    "name": "ipython",
    "version": 3
   },
   "file_extension": ".py",
   "mimetype": "text/x-python",
   "name": "python",
   "nbconvert_exporter": "python",
   "pygments_lexer": "ipython3",
   "version": "3.10.12"
  }
 },
 "nbformat": 4,
 "nbformat_minor": 2
}
