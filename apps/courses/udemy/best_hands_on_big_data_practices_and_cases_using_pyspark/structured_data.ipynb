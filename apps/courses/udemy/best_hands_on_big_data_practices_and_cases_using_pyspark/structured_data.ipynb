{
 "cells": [
  {
   "cell_type": "code",
   "execution_count": 1,
   "metadata": {},
   "outputs": [],
   "source": [
    "from pyspark.sql import SparkSession"
   ]
  },
  {
   "cell_type": "code",
   "execution_count": 7,
   "metadata": {},
   "outputs": [],
   "source": [
    "spark = SparkSession.builder.appName(\"STRUCTURED_DF\").master(\"local[8]\").getOrCreate()"
   ]
  },
  {
   "cell_type": "code",
   "execution_count": 8,
   "metadata": {},
   "outputs": [
    {
     "data": {
      "text/html": [
       "\n",
       "            <div>\n",
       "                <p><b>SparkSession - in-memory</b></p>\n",
       "                \n",
       "        <div>\n",
       "            <p><b>SparkContext</b></p>\n",
       "\n",
       "            <p><a href=\"http://192.168.2.154:4041\">Spark UI</a></p>\n",
       "\n",
       "            <dl>\n",
       "              <dt>Version</dt>\n",
       "                <dd><code>v3.5.3</code></dd>\n",
       "              <dt>Master</dt>\n",
       "                <dd><code>local[8]</code></dd>\n",
       "              <dt>AppName</dt>\n",
       "                <dd><code>STRUCTURED_DF</code></dd>\n",
       "            </dl>\n",
       "        </div>\n",
       "        \n",
       "            </div>\n",
       "        "
      ],
      "text/plain": [
       "<pyspark.sql.session.SparkSession at 0x7f9bf541c7c0>"
      ]
     },
     "execution_count": 8,
     "metadata": {},
     "output_type": "execute_result"
    }
   ],
   "source": [
    "spark"
   ]
  },
  {
   "cell_type": "code",
   "execution_count": 9,
   "metadata": {},
   "outputs": [],
   "source": [
    "df = spark.read.text(\"/home/guilhermefmk/Documentos/labs_spark/data/kddcup.data\")"
   ]
  },
  {
   "cell_type": "code",
   "execution_count": 13,
   "metadata": {},
   "outputs": [],
   "source": [
    "df2 = spark.read.csv(\"/home/guilhermefmk/Documentos/labs_spark/data/kddcup.data\", sep=',')"
   ]
  },
  {
   "cell_type": "code",
   "execution_count": 14,
   "metadata": {},
   "outputs": [
    {
     "name": "stdout",
     "output_type": "stream",
     "text": [
      "root\n",
      " |-- _c0: string (nullable = true)\n",
      " |-- _c1: string (nullable = true)\n",
      " |-- _c2: string (nullable = true)\n",
      " |-- _c3: string (nullable = true)\n",
      " |-- _c4: string (nullable = true)\n",
      " |-- _c5: string (nullable = true)\n",
      " |-- _c6: string (nullable = true)\n",
      " |-- _c7: string (nullable = true)\n",
      " |-- _c8: string (nullable = true)\n",
      " |-- _c9: string (nullable = true)\n",
      " |-- _c10: string (nullable = true)\n",
      " |-- _c11: string (nullable = true)\n",
      " |-- _c12: string (nullable = true)\n",
      " |-- _c13: string (nullable = true)\n",
      " |-- _c14: string (nullable = true)\n",
      " |-- _c15: string (nullable = true)\n",
      " |-- _c16: string (nullable = true)\n",
      " |-- _c17: string (nullable = true)\n",
      " |-- _c18: string (nullable = true)\n",
      " |-- _c19: string (nullable = true)\n",
      " |-- _c20: string (nullable = true)\n",
      " |-- _c21: string (nullable = true)\n",
      " |-- _c22: string (nullable = true)\n",
      " |-- _c23: string (nullable = true)\n",
      " |-- _c24: string (nullable = true)\n",
      " |-- _c25: string (nullable = true)\n",
      " |-- _c26: string (nullable = true)\n",
      " |-- _c27: string (nullable = true)\n",
      " |-- _c28: string (nullable = true)\n",
      " |-- _c29: string (nullable = true)\n",
      " |-- _c30: string (nullable = true)\n",
      " |-- _c31: string (nullable = true)\n",
      " |-- _c32: string (nullable = true)\n",
      " |-- _c33: string (nullable = true)\n",
      " |-- _c34: string (nullable = true)\n",
      " |-- _c35: string (nullable = true)\n",
      " |-- _c36: string (nullable = true)\n",
      " |-- _c37: string (nullable = true)\n",
      " |-- _c38: string (nullable = true)\n",
      " |-- _c39: string (nullable = true)\n",
      " |-- _c40: string (nullable = true)\n",
      " |-- _c41: string (nullable = true)\n",
      "\n"
     ]
    }
   ],
   "source": [
    "df2.printSchema()"
   ]
  },
  {
   "cell_type": "code",
   "execution_count": 10,
   "metadata": {},
   "outputs": [
    {
     "name": "stdout",
     "output_type": "stream",
     "text": [
      "root\n",
      " |-- value: string (nullable = true)\n",
      "\n"
     ]
    }
   ],
   "source": [
    "df.printSchema()"
   ]
  },
  {
   "cell_type": "code",
   "execution_count": 11,
   "metadata": {},
   "outputs": [
    {
     "name": "stdout",
     "output_type": "stream",
     "text": [
      "+--------------------+\n",
      "|               value|\n",
      "+--------------------+\n",
      "|0,tcp,http,SF,215...|\n",
      "|0,tcp,http,SF,162...|\n",
      "|0,tcp,http,SF,236...|\n",
      "|0,tcp,http,SF,233...|\n",
      "|0,tcp,http,SF,239...|\n",
      "|0,tcp,http,SF,238...|\n",
      "|0,tcp,http,SF,235...|\n",
      "|0,tcp,http,SF,234...|\n",
      "|0,tcp,http,SF,239...|\n",
      "|0,tcp,http,SF,181...|\n",
      "|0,tcp,http,SF,184...|\n",
      "|0,tcp,http,SF,185...|\n",
      "|0,tcp,http,SF,239...|\n",
      "|0,tcp,http,SF,181...|\n",
      "|0,tcp,http,SF,236...|\n",
      "|0,tcp,http,SF,233...|\n",
      "|0,tcp,http,SF,238...|\n",
      "|0,tcp,http,SF,235...|\n",
      "|0,tcp,http,SF,234...|\n",
      "|0,tcp,http,SF,239...|\n",
      "+--------------------+\n",
      "only showing top 20 rows\n",
      "\n"
     ]
    }
   ],
   "source": [
    "df.show()"
   ]
  },
  {
   "cell_type": "code",
   "execution_count": 12,
   "metadata": {},
   "outputs": [
    {
     "name": "stdout",
     "output_type": "stream",
     "text": [
      "+--------+-------+----+---------+---------+------+-----------------+----------+-----------+-------+\n",
      "|Protocol|Service|flag|src_bytes|dst_bytes|urgent|num_failed_logins|root_shell|guest_login|  label|\n",
      "+--------+-------+----+---------+---------+------+-----------------+----------+-----------+-------+\n",
      "|     tcp|   http|  SF|      215|    45076|     0|                0|         0|          0|normal.|\n",
      "|     tcp|   http|  SF|      162|     4528|     0|                0|         0|          0|normal.|\n",
      "|     tcp|   http|  SF|      236|     1228|     0|                0|         0|          0|normal.|\n",
      "|     tcp|   http|  SF|      233|     2032|     0|                0|         0|          0|normal.|\n",
      "|     tcp|   http|  SF|      239|      486|     0|                0|         0|          0|normal.|\n",
      "|     tcp|   http|  SF|      238|     1282|     0|                0|         0|          0|normal.|\n",
      "|     tcp|   http|  SF|      235|     1337|     0|                0|         0|          0|normal.|\n",
      "|     tcp|   http|  SF|      234|     1364|     0|                0|         0|          0|normal.|\n",
      "|     tcp|   http|  SF|      239|     1295|     0|                0|         0|          0|normal.|\n",
      "|     tcp|   http|  SF|      181|     5450|     0|                0|         0|          0|normal.|\n",
      "|     tcp|   http|  SF|      184|      124|     0|                0|         0|          0|normal.|\n",
      "|     tcp|   http|  SF|      185|     9020|     0|                0|         0|          0|normal.|\n",
      "|     tcp|   http|  SF|      239|     1295|     0|                0|         0|          0|normal.|\n",
      "|     tcp|   http|  SF|      181|     5450|     0|                0|         0|          0|normal.|\n",
      "|     tcp|   http|  SF|      236|     1228|     0|                0|         0|          0|normal.|\n",
      "|     tcp|   http|  SF|      233|     2032|     0|                0|         0|          0|normal.|\n",
      "|     tcp|   http|  SF|      238|     1282|     0|                0|         0|          0|normal.|\n",
      "|     tcp|   http|  SF|      235|     1337|     0|                0|         0|          0|normal.|\n",
      "|     tcp|   http|  SF|      234|     1364|     0|                0|         0|          0|normal.|\n",
      "|     tcp|   http|  SF|      239|      486|     0|                0|         0|          0|normal.|\n",
      "+--------+-------+----+---------+---------+------+-----------------+----------+-----------+-------+\n",
      "only showing top 20 rows\n",
      "\n"
     ]
    }
   ],
   "source": [
    "# Split data (if needed)\n",
    "\n",
    "from pyspark.sql.functions import split\n",
    "\n",
    "split_col = split(df['value'], ',')\n",
    "df = df.withColumn('Protocol', split_col.getItem(1)) \\\n",
    "       .withColumn('Service', split_col.getItem(2)) \\\n",
    "       .withColumn('flag', split_col.getItem(3)) \\\n",
    "       .withColumn('src_bytes', split_col.getItem(4)) \\\n",
    "       .withColumn('dst_bytes', split_col.getItem(5)) \\\n",
    "       .withColumn('urgent', split_col.getItem(8)) \\\n",
    "       .withColumn('num_failed_logins', split_col.getItem(10)) \\\n",
    "       .withColumn('root_shell', split_col.getItem(13)) \\\n",
    "       .withColumn('guest_login', split_col.getItem(21)) \\\n",
    "       .withColumn('label', split_col.getItem(41)) \\\n",
    "       .drop('value')\n",
    "\n",
    "df.show()"
   ]
  },
  {
   "cell_type": "code",
   "execution_count": 16,
   "metadata": {},
   "outputs": [
    {
     "name": "stderr",
     "output_type": "stream",
     "text": [
      "[Stage 3:=======>                                                   (1 + 7) / 8]\r"
     ]
    },
    {
     "name": "stdout",
     "output_type": "stream",
     "text": [
      "10\n"
     ]
    }
   ],
   "source": [
    "df = df.repartition(10)\n",
    "print(df.rdd.getNumPartitions())\n",
    "\n",
    "df.createOrReplaceTempView(\"kcup\")"
   ]
  },
  {
   "cell_type": "code",
   "execution_count": 17,
   "metadata": {},
   "outputs": [
    {
     "name": "stderr",
     "output_type": "stream",
     "text": [
      "[Stage 6:==============================================>           (8 + 2) / 10]\r"
     ]
    },
    {
     "name": "stdout",
     "output_type": "stream",
     "text": [
      "+----------------+-------+\n",
      "|           label|  count|\n",
      "+----------------+-------+\n",
      "|          smurf.|2807886|\n",
      "|        neptune.|1072017|\n",
      "|         normal.| 972781|\n",
      "|          satan.|  15892|\n",
      "|        ipsweep.|  12481|\n",
      "|      portsweep.|  10413|\n",
      "|           nmap.|   2316|\n",
      "|           back.|   2203|\n",
      "|    warezclient.|   1020|\n",
      "|       teardrop.|    979|\n",
      "|            pod.|    264|\n",
      "|   guess_passwd.|     53|\n",
      "|buffer_overflow.|     30|\n",
      "|           land.|     21|\n",
      "|    warezmaster.|     20|\n",
      "|           imap.|     12|\n",
      "|        rootkit.|     10|\n",
      "|     loadmodule.|      9|\n",
      "|      ftp_write.|      8|\n",
      "|       multihop.|      7|\n",
      "+----------------+-------+\n",
      "only showing top 20 rows\n",
      "\n"
     ]
    },
    {
     "name": "stderr",
     "output_type": "stream",
     "text": [
      "                                                                                \r"
     ]
    }
   ],
   "source": [
    "df.groupBy(\"label\").count().orderBy('count', ascending=False).show()"
   ]
  },
  {
   "cell_type": "code",
   "execution_count": 18,
   "metadata": {},
   "outputs": [
    {
     "name": "stderr",
     "output_type": "stream",
     "text": [
      "[Stage 12:=============================================>           (8 + 2) / 10]\r"
     ]
    },
    {
     "name": "stdout",
     "output_type": "stream",
     "text": [
      "+--------+---------+-------+\n",
      "|Protocol|    State|   freq|\n",
      "+--------+---------+-------+\n",
      "|     udp|   attack|   2940|\n",
      "|     udp|no attack| 191348|\n",
      "|     tcp|no attack| 764894|\n",
      "|     tcp|   attack|1101613|\n",
      "|    icmp|   attack|2820782|\n",
      "|    icmp|no attack|  12763|\n",
      "+--------+---------+-------+\n",
      "\n"
     ]
    },
    {
     "name": "stderr",
     "output_type": "stream",
     "text": [
      "                                                                                \r"
     ]
    }
   ],
   "source": [
    "sql_query = \"\"\" SELECT Protocol,\n",
    "                CASE label\n",
    "                  WHEN 'normal.' THEN 'no attack'\n",
    "                  ELSE 'attack'\n",
    "                END AS State,\n",
    "                COUNT(*) as freq\n",
    "              FROM kcup\n",
    "              WHERE guest_login != 1\n",
    "              GROUP BY Protocol, State\n",
    "              ORDER BY Protocol DESC\n",
    "            \"\"\"\n",
    "\n",
    "spark.sql(sql_query).show()"
   ]
  }
 ],
 "metadata": {
  "kernelspec": {
   "display_name": "labs_spark",
   "language": "python",
   "name": "python3"
  },
  "language_info": {
   "codemirror_mode": {
    "name": "ipython",
    "version": 3
   },
   "file_extension": ".py",
   "mimetype": "text/x-python",
   "name": "python",
   "nbconvert_exporter": "python",
   "pygments_lexer": "ipython3",
   "version": "3.10.12"
  }
 },
 "nbformat": 4,
 "nbformat_minor": 2
}
