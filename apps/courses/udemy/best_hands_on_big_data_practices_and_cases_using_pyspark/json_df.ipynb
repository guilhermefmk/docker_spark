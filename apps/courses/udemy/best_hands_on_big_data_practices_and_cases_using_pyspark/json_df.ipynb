{
 "cells": [
  {
   "cell_type": "code",
   "execution_count": 124,
   "metadata": {},
   "outputs": [],
   "source": [
    "from pyspark.sql import SparkSession\n",
    "from pyspark.sql.types import StructType, StructField, IntegerType, FloatType, StringType, BooleanType, ArrayType, DateType, TimestampNTZType"
   ]
  },
  {
   "cell_type": "code",
   "execution_count": 2,
   "metadata": {},
   "outputs": [],
   "source": [
    "APP_NAME = \"JSON_DF\""
   ]
  },
  {
   "cell_type": "code",
   "execution_count": 14,
   "metadata": {},
   "outputs": [],
   "source": [
    "spark = SparkSession.builder.appName(APP_NAME) \\\n",
    "        .config(\"spark.default.parallelism\", \"8\") \\\n",
    "        .master(\"local[8]\") \\\n",
    "        .getOrCreate()"
   ]
  },
  {
   "cell_type": "code",
   "execution_count": 16,
   "metadata": {},
   "outputs": [
    {
     "data": {
      "text/html": [
       "\n",
       "            <div>\n",
       "                <p><b>SparkSession - in-memory</b></p>\n",
       "                \n",
       "        <div>\n",
       "            <p><b>SparkContext</b></p>\n",
       "\n",
       "            <p><a href=\"http://192.168.2.154:4040\">Spark UI</a></p>\n",
       "\n",
       "            <dl>\n",
       "              <dt>Version</dt>\n",
       "                <dd><code>v3.5.3</code></dd>\n",
       "              <dt>Master</dt>\n",
       "                <dd><code>local[8]</code></dd>\n",
       "              <dt>AppName</dt>\n",
       "                <dd><code>JSON_DF</code></dd>\n",
       "            </dl>\n",
       "        </div>\n",
       "        \n",
       "            </div>\n",
       "        "
      ],
      "text/plain": [
       "<pyspark.sql.session.SparkSession at 0x7f3d34890cd0>"
      ]
     },
     "execution_count": 16,
     "metadata": {},
     "output_type": "execute_result"
    }
   ],
   "source": [
    "spark"
   ]
  },
  {
   "cell_type": "code",
   "execution_count": 15,
   "metadata": {},
   "outputs": [
    {
     "data": {
      "text/plain": [
       "8"
      ]
     },
     "execution_count": 15,
     "metadata": {},
     "output_type": "execute_result"
    }
   ],
   "source": [
    "spark.sparkContext.defaultParallelism"
   ]
  },
  {
   "cell_type": "code",
   "execution_count": 151,
   "metadata": {},
   "outputs": [],
   "source": [
    "df_schema = StructType(\n",
    "    [\n",
    "        StructField(\"abstract\", StringType(), True),\n",
    "        StructField(\"authors\", StringType(), True),\n",
    "        StructField(\"authors_parsed\", ArrayType(ArrayType(StringType())), True),\n",
    "        StructField(\"categories\", StringType(), True),\n",
    "        StructField(\"comments\", StringType(), True),\n",
    "        StructField(\"doi\", StringType(), True),\n",
    "        StructField(\"id\", StringType(), True),\n",
    "        StructField(\"journal\", StringType(), True),\n",
    "        StructField(\"license\", StringType(), True),\n",
    "        StructField(\"report\", StringType(), True),\n",
    "        StructField(\"submitter\", StringType(), True),\n",
    "        StructField(\"title\", StringType(), True),\n",
    "        StructField(\"update_date\", DateType(), True),\n",
    "        StructField(\"element\", StringType(), True),\n",
    "        StructField(\"created\", StringType(), True),\n",
    "        StructField(\"versions\", ArrayType(\n",
    "                                StructType([\n",
    "                                    StructField(\"created\", StringType(), True),\n",
    "                                    StructField(\"version\", StringType(), True)\n",
    "                                ])\n",
    "        ), True),\n",
    "    ]\n",
    ")"
   ]
  },
  {
   "cell_type": "code",
   "execution_count": 67,
   "metadata": {},
   "outputs": [
    {
     "name": "stderr",
     "output_type": "stream",
     "text": [
      "                                                                                \r"
     ]
    }
   ],
   "source": [
    "df_infer = spark.read.json(\"/home/guilhermefmk/Documentos/labs_spark/data/arxivData.json\")"
   ]
  },
  {
   "cell_type": "code",
   "execution_count": 153,
   "metadata": {},
   "outputs": [],
   "source": [
    "df = spark.read.json(\"/home/guilhermefmk/Documentos/labs_spark/data/arxivData.json\", schema=df_schema)"
   ]
  },
  {
   "cell_type": "code",
   "execution_count": 157,
   "metadata": {},
   "outputs": [
    {
     "name": "stdout",
     "output_type": "stream",
     "text": [
      "+----------------+\n",
      "|versions.version|\n",
      "+----------------+\n",
      "|[v1, v2]        |\n",
      "|[v1, v2]        |\n",
      "|[v1, v2, v3]    |\n",
      "|[v1]            |\n",
      "|[v1]            |\n",
      "|[v1]            |\n",
      "|[v1, v2]        |\n",
      "|[v1, v2, v3]    |\n",
      "|[v1]            |\n",
      "|[v1]            |\n",
      "|[v1, v2, v3]    |\n",
      "|[v1]            |\n",
      "|[v1, v2]        |\n",
      "|[v1]            |\n",
      "|[v1, v2]        |\n",
      "|[v1]            |\n",
      "|[v1]            |\n",
      "|[v1, v2]        |\n",
      "|[v1, v2]        |\n",
      "|[v1]            |\n",
      "+----------------+\n",
      "only showing top 20 rows\n",
      "\n"
     ]
    }
   ],
   "source": [
    "df.select(df['versions'].version).show(truncate=False)"
   ]
  },
  {
   "cell_type": "code",
   "execution_count": 158,
   "metadata": {},
   "outputs": [
    {
     "name": "stdout",
     "output_type": "stream",
     "text": [
      "root\n",
      " |-- abstract: string (nullable = true)\n",
      " |-- authors: string (nullable = true)\n",
      " |-- authors_parsed: array (nullable = true)\n",
      " |    |-- element: array (containsNull = true)\n",
      " |    |    |-- element: string (containsNull = true)\n",
      " |-- categories: string (nullable = true)\n",
      " |-- comments: string (nullable = true)\n",
      " |-- doi: string (nullable = true)\n",
      " |-- id: string (nullable = true)\n",
      " |-- journal: string (nullable = true)\n",
      " |-- license: string (nullable = true)\n",
      " |-- report: string (nullable = true)\n",
      " |-- submitter: string (nullable = true)\n",
      " |-- title: string (nullable = true)\n",
      " |-- update_date: date (nullable = true)\n",
      " |-- element: string (nullable = true)\n",
      " |-- created: string (nullable = true)\n",
      " |-- versions: array (nullable = true)\n",
      " |    |-- element: struct (containsNull = true)\n",
      " |    |    |-- created: string (nullable = true)\n",
      " |    |    |-- version: string (nullable = true)\n",
      "\n"
     ]
    }
   ],
   "source": [
    "df.printSchema()"
   ]
  },
  {
   "cell_type": "code",
   "execution_count": 88,
   "metadata": {},
   "outputs": [
    {
     "name": "stdout",
     "output_type": "stream",
     "text": [
      "+--------------------+--------------------+--------------------+-----------------+--------------------+--------------------+---------+-------+--------------------+------+------------------+--------------------+-----------+--------------------+-------+-------+-------+\n",
      "|            abstract|             authors|      authors_parsed|       categories|            comments|                 doi|       id|journal|             license|report|         submitter|               title|update_date|            versions|element|created|version|\n",
      "+--------------------+--------------------+--------------------+-----------------+--------------------+--------------------+---------+-------+--------------------+------+------------------+--------------------+-----------+--------------------+-------+-------+-------+\n",
      "|  A fully differe...|C. Bal\\'azs, E. L...|[[Balázs, C., ], ...|           hep-ph|37 pages, 15 figu...|10.1103/PhysRevD....|0704.0001|   NULL|                NULL|  NULL|    Pavel Nadolsky|Calculation of pr...| 2008-11-26|[{\"version\":\"v1\",...|   NULL|   NULL|   NULL|\n",
      "|  We describe a n...|Ileana Streinu an...|[[Streinu, Ileana...|    math.CO cs.CG|To appear in Grap...|                NULL|0704.0002|   NULL|http://arxiv.org/...|  NULL|      Louis Theran|Sparsity-certifyi...| 2008-12-13|[{\"version\":\"v1\",...|   NULL|   NULL|   NULL|\n",
      "|  The evolution o...|         Hongjun Pan|  [[Pan, Hongjun, ]]|   physics.gen-ph| 23 pages, 3 figures|                NULL|0704.0003|   NULL|                NULL|  NULL|       Hongjun Pan|The evolution of ...| 2008-01-13|[{\"version\":\"v1\",...|   NULL|   NULL|   NULL|\n",
      "|  We show that a ...|        David Callan| [[Callan, David, ]]|          math.CO|            11 pages|                NULL|0704.0004|   NULL|                NULL|  NULL|      David Callan|A determinant of ...| 2007-05-23|[{\"version\":\"v1\",...|   NULL|   NULL|   NULL|\n",
      "|  In this paper w...|Wael Abu-Shammala...|[[Abu-Shammala, W...|  math.CA math.FA|                NULL|                NULL|0704.0005|   NULL|                NULL|  NULL|Alberto Torchinsky|From dyadic $\\Lam...| 2013-10-15|[{\"version\":\"v1\",...|   NULL|   NULL|   NULL|\n",
      "|  We study the tw...|Y. H. Pong and C....|[[Pong, Y. H., ],...|cond-mat.mes-hall|6 pages, 4 figure...|10.1103/PhysRevA....|0704.0006|   NULL|                NULL|  NULL|      Yue Hin Pong|Bosonic character...| 2015-05-13|[{\"version\":\"v1\",...|   NULL|   NULL|   NULL|\n",
      "|  A rather non-st...|Alejandro Corichi...|[[Corichi, Alejan...|            gr-qc|16 pages, no figu...|10.1103/PhysRevD....|0704.0007|   NULL|                NULL|  NULL| Alejandro Corichi|Polymer Quantum M...| 2008-11-26|[{\"version\":\"v1\",...|   NULL|   NULL|   NULL|\n",
      "|  A general formu...|     Damian C. Swift|[[Swift, Damian C...|cond-mat.mtrl-sci|   Minor corrections|   10.1063/1.2975338|0704.0008|   NULL|http://arxiv.org/...|  NULL|      Damian Swift|Numerical solutio...| 2009-02-05|[{\"version\":\"v1\",...|   NULL|   NULL|   NULL|\n",
      "|  We discuss the ...|Paul Harvey, Brun...|[[Harvey, Paul, ]...|         astro-ph|                NULL|      10.1086/518646|0704.0009|   NULL|                NULL|  NULL|       Paul Harvey|The Spitzer c2d S...| 2010-03-18|[{\"version\":\"v1\",...|   NULL|   NULL|   NULL|\n",
      "|  Partial cubes a...|  Sergei Ovchinnikov|[[Ovchinnikov, Se...|          math.CO|36 pages, 17 figures|                NULL|0704.0010|   NULL|                NULL|  NULL|Sergei Ovchinnikov|Partial cubes: st...| 2007-05-23|[{\"version\":\"v1\",...|   NULL|   NULL|   NULL|\n",
      "|  In this paper w...|Clifton Cunningha...|[[Cunningham, Cli...|  math.NT math.AG|14 pages; title c...|                NULL|0704.0011|   NULL|http://arxiv.org/...|  NULL|Clifton Cunningham|Computing genus 2...| 2008-08-20|[{\"version\":\"v1\",...|   NULL|   NULL|   NULL|\n",
      "|  Recently, Bruin...|         Dohoon Choi|  [[Choi, Dohoon, ]]|          math.NT|                NULL|                NULL|0704.0012|   NULL|                NULL|  NULL|       Dohoon Choi|Distribution of i...| 2007-05-23|[{\"version\":\"v1\",...|   NULL|   NULL|   NULL|\n",
      "|  Serre obtained ...|Dohoon Choi and Y...|[[Choi, Dohoon, ]...|          math.NT|                NULL|                NULL|0704.0013|   NULL|                NULL|  NULL|       Dohoon Choi|$p$-adic Limit of...| 2008-05-26|[{\"version\":\"v1\",...|   NULL|   NULL|   NULL|\n",
      "|  In this article...|        Koichi Fujii| [[Fujii, Koichi, ]]|  math.CA math.AT|  18 pages, 1 figure|                NULL|0704.0014|   NULL|                NULL|  NULL|      Koichi Fujii|Iterated integral...| 2009-09-29|[{\"version\":\"v1\",...|   NULL|   NULL|   NULL|\n",
      "|  The pure spinor...|     Christian Stahn|[[Stahn, Christia...|           hep-th|22 pages; signs a...|10.1088/1126-6708...|0704.0015|   NULL|                NULL|  NULL|   Christian Stahn|Fermionic superst...| 2009-11-13|[{\"version\":\"v1\",...|   NULL|   NULL|   NULL|\n",
      "|  In this work, w...|Chao-Hsi Chang, T...|[[Chang, Chao-Hsi...|           hep-ph|17 pages, 3 figur...|10.1088/0253-6102...|0704.0016|   NULL|                NULL|  NULL|           Li Tong|Lifetime of doubl...| 2008-12-18|[{\"version\":\"v1\",...|   NULL|   NULL|   NULL|\n",
      "|  Results from sp...|Nceba Mhlahlo, Da...|[[Mhlahlo, Nceba,...|         astro-ph|10 pages, 11 figu...|10.1111/j.1365-29...|0704.0017|   NULL|                NULL|  NULL|     Nceba Mhlahlo|Spectroscopic Obs...| 2009-06-23|[{\"version\":\"v1\",...|   NULL|   NULL|   NULL|\n",
      "|  We give a presc...|  Andreas Gustavsson|[[Gustavsson, And...|           hep-th|20 pages, v2: an ...|                NULL|0704.0018|   NULL|                NULL|  NULL|Andreas Gustavsson|In quest of a gen...| 2007-05-23|[{\"version\":\"v1\",...|   NULL|   NULL|   NULL|\n",
      "|  In this note we...|         Norio Konno|  [[Konno, Norio, ]]|  math.PR math.AG|6 pages, Journal-...|                NULL|0704.0019|   NULL|                NULL|  NULL|       Norio Konno|Approximation for...| 2007-06-23|[{\"version\":\"v1\",...|   NULL|   NULL|   NULL|\n",
      "|  The shape of th...|The BABAR Collabo...|[[The BABAR Colla...|           hep-ex|21 pages, 13 post...|10.1103/PhysRevD....|0704.0020|   NULL|                NULL|  NULL|   Patrick Roudeau|Measurement of th...| 2015-06-30|[{\"version\":\"v1\",...|   NULL|   NULL|   NULL|\n",
      "+--------------------+--------------------+--------------------+-----------------+--------------------+--------------------+---------+-------+--------------------+------+------------------+--------------------+-----------+--------------------+-------+-------+-------+\n",
      "only showing top 20 rows\n",
      "\n"
     ]
    }
   ],
   "source": [
    "\n",
    "df.show()"
   ]
  },
  {
   "cell_type": "code",
   "execution_count": 159,
   "metadata": {},
   "outputs": [],
   "source": [
    "df = df.fillna(\"unknown\", subset=[\"license\"])"
   ]
  },
  {
   "cell_type": "code",
   "execution_count": 160,
   "metadata": {},
   "outputs": [],
   "source": [
    "df = df.dropna(subset=[\"comments\"])"
   ]
  },
  {
   "cell_type": "code",
   "execution_count": 48,
   "metadata": {},
   "outputs": [
    {
     "name": "stdout",
     "output_type": "stream",
     "text": [
      "+--------------------+--------------------+--------------------+--------------------+--------------------+--------------------+---------+-------+--------------------+------+------------------+--------------------+-----------+--------------------+-------+-------+-------+\n",
      "|            abstract|             authors|      authors_parsed|          categories|            comments|                 doi|       id|journal|             license|report|         submitter|               title|update_date|            versions|element|created|version|\n",
      "+--------------------+--------------------+--------------------+--------------------+--------------------+--------------------+---------+-------+--------------------+------+------------------+--------------------+-----------+--------------------+-------+-------+-------+\n",
      "|  A fully differe...|C. Bal\\'azs, E. L...|[[Balázs, C., ], ...|              hep-ph|37 pages, 15 figu...|10.1103/PhysRevD....|0704.0001|   NULL|             unknown|  NULL|    Pavel Nadolsky|Calculation of pr...| 2008-11-26|[{\"version\":\"v1\",...|   NULL|   NULL|   NULL|\n",
      "|  We describe a n...|Ileana Streinu an...|[[Streinu, Ileana...|       math.CO cs.CG|To appear in Grap...|                NULL|0704.0002|   NULL|http://arxiv.org/...|  NULL|      Louis Theran|Sparsity-certifyi...| 2008-12-13|[{\"version\":\"v1\",...|   NULL|   NULL|   NULL|\n",
      "|  The evolution o...|         Hongjun Pan|  [[Pan, Hongjun, ]]|      physics.gen-ph| 23 pages, 3 figures|                NULL|0704.0003|   NULL|             unknown|  NULL|       Hongjun Pan|The evolution of ...| 2008-01-13|[{\"version\":\"v1\",...|   NULL|   NULL|   NULL|\n",
      "|  We show that a ...|        David Callan| [[Callan, David, ]]|             math.CO|            11 pages|                NULL|0704.0004|   NULL|             unknown|  NULL|      David Callan|A determinant of ...| 2007-05-23|[{\"version\":\"v1\",...|   NULL|   NULL|   NULL|\n",
      "|  We study the tw...|Y. H. Pong and C....|[[Pong, Y. H., ],...|   cond-mat.mes-hall|6 pages, 4 figure...|10.1103/PhysRevA....|0704.0006|   NULL|             unknown|  NULL|      Yue Hin Pong|Bosonic character...| 2015-05-13|[{\"version\":\"v1\",...|   NULL|   NULL|   NULL|\n",
      "|  A rather non-st...|Alejandro Corichi...|[[Corichi, Alejan...|               gr-qc|16 pages, no figu...|10.1103/PhysRevD....|0704.0007|   NULL|             unknown|  NULL| Alejandro Corichi|Polymer Quantum M...| 2008-11-26|[{\"version\":\"v1\",...|   NULL|   NULL|   NULL|\n",
      "|  A general formu...|     Damian C. Swift|[[Swift, Damian C...|   cond-mat.mtrl-sci|   Minor corrections|   10.1063/1.2975338|0704.0008|   NULL|http://arxiv.org/...|  NULL|      Damian Swift|Numerical solutio...| 2009-02-05|[{\"version\":\"v1\",...|   NULL|   NULL|   NULL|\n",
      "|  Partial cubes a...|  Sergei Ovchinnikov|[[Ovchinnikov, Se...|             math.CO|36 pages, 17 figures|                NULL|0704.0010|   NULL|             unknown|  NULL|Sergei Ovchinnikov|Partial cubes: st...| 2007-05-23|[{\"version\":\"v1\",...|   NULL|   NULL|   NULL|\n",
      "|  In this paper w...|Clifton Cunningha...|[[Cunningham, Cli...|     math.NT math.AG|14 pages; title c...|                NULL|0704.0011|   NULL|http://arxiv.org/...|  NULL|Clifton Cunningham|Computing genus 2...| 2008-08-20|[{\"version\":\"v1\",...|   NULL|   NULL|   NULL|\n",
      "|  In this article...|        Koichi Fujii| [[Fujii, Koichi, ]]|     math.CA math.AT|  18 pages, 1 figure|                NULL|0704.0014|   NULL|             unknown|  NULL|      Koichi Fujii|Iterated integral...| 2009-09-29|[{\"version\":\"v1\",...|   NULL|   NULL|   NULL|\n",
      "|  The pure spinor...|     Christian Stahn|[[Stahn, Christia...|              hep-th|22 pages; signs a...|10.1088/1126-6708...|0704.0015|   NULL|             unknown|  NULL|   Christian Stahn|Fermionic superst...| 2009-11-13|[{\"version\":\"v1\",...|   NULL|   NULL|   NULL|\n",
      "|  In this work, w...|Chao-Hsi Chang, T...|[[Chang, Chao-Hsi...|              hep-ph|17 pages, 3 figur...|10.1088/0253-6102...|0704.0016|   NULL|             unknown|  NULL|           Li Tong|Lifetime of doubl...| 2008-12-18|[{\"version\":\"v1\",...|   NULL|   NULL|   NULL|\n",
      "|  Results from sp...|Nceba Mhlahlo, Da...|[[Mhlahlo, Nceba,...|            astro-ph|10 pages, 11 figu...|10.1111/j.1365-29...|0704.0017|   NULL|             unknown|  NULL|     Nceba Mhlahlo|Spectroscopic Obs...| 2009-06-23|[{\"version\":\"v1\",...|   NULL|   NULL|   NULL|\n",
      "|  We give a presc...|  Andreas Gustavsson|[[Gustavsson, And...|              hep-th|20 pages, v2: an ...|                NULL|0704.0018|   NULL|             unknown|  NULL|Andreas Gustavsson|In quest of a gen...| 2007-05-23|[{\"version\":\"v1\",...|   NULL|   NULL|   NULL|\n",
      "|  In this note we...|         Norio Konno|  [[Konno, Norio, ]]|     math.PR math.AG|6 pages, Journal-...|                NULL|0704.0019|   NULL|             unknown|  NULL|       Norio Konno|Approximation for...| 2007-06-23|[{\"version\":\"v1\",...|   NULL|   NULL|   NULL|\n",
      "|  The shape of th...|The BABAR Collabo...|[[The BABAR Colla...|              hep-ex|21 pages, 13 post...|10.1103/PhysRevD....|0704.0020|   NULL|             unknown|  NULL|   Patrick Roudeau|Measurement of th...| 2015-06-30|[{\"version\":\"v1\",...|   NULL|   NULL|   NULL|\n",
      "|  Spatiotemporal ...|Vanessa Casagrand...|[[Casagrande, Van...|nlin.PS physics.c...|  5 pages, 4 figures|10.1103/PhysRevLe...|0704.0021|   NULL|             unknown|  NULL|    Yuichi Togashi|Molecular Synchro...| 2007-07-24|[{\"version\":\"v1\",...|   NULL|   NULL|   NULL|\n",
      "|  We present Lie ...|Simon J.A. Malham...|[[Malham, Simon J...|             math.NA| 20 pages, 4 figures|                NULL|0704.0022|   NULL|             unknown|  NULL|      Simon Malham|Stochastic Lie gr...| 2007-10-16|[{\"version\":\"v1\",...|   NULL|   NULL|   NULL|\n",
      "|  The very nature...|M. A. Loukitcheva...|[[Loukitcheva, M....|            astro-ph|4 pages, 2 figure...|10.1007/s10509-00...|0704.0023|   NULL|             unknown|  NULL| Maria Loukitcheva|ALMA as the ideal...| 2009-06-23|[{\"version\":\"v1\",...|   NULL|   NULL|   NULL|\n",
      "|  The formation o...|A.A. Serga, M. Ko...|[[Serga, A. A., ]...|             nlin.PS|First appeared in...|                NULL|0704.0024|   NULL|             unknown|  NULL|  Mikhail Kostylev|Formation of quas...| 2007-05-30|[{\"version\":\"v1\",...|   NULL|   NULL|   NULL|\n",
      "+--------------------+--------------------+--------------------+--------------------+--------------------+--------------------+---------+-------+--------------------+------+------------------+--------------------+-----------+--------------------+-------+-------+-------+\n",
      "only showing top 20 rows\n",
      "\n"
     ]
    }
   ],
   "source": [
    "df.show()"
   ]
  },
  {
   "cell_type": "code",
   "execution_count": 53,
   "metadata": {},
   "outputs": [
    {
     "name": "stdout",
     "output_type": "stream",
     "text": [
      "+--------------------+--------------------+--------------------+--------------------+--------------------+--------------------+---------+-------+--------------------+------+--------------------+--------------------+-----------+--------------------+-------+-------+-------+\n",
      "|            abstract|             authors|      authors_parsed|          categories|            comments|                 doi|       id|journal|             license|report|           submitter|               title|update_date|            versions|element|created|version|\n",
      "+--------------------+--------------------+--------------------+--------------------+--------------------+--------------------+---------+-------+--------------------+------+--------------------+--------------------+-----------+--------------------+-------+-------+-------+\n",
      "|  We describe a n...|Ileana Streinu an...|[[Streinu, Ileana...|       math.CO cs.CG|To appear in Grap...|                NULL|0704.0002|   NULL|http://arxiv.org/...|  NULL|        Louis Theran|Sparsity-certifyi...| 2008-12-13|[{\"version\":\"v1\",...|   NULL|   NULL|   NULL|\n",
      "|  We show that a ...|        David Callan| [[Callan, David, ]]|             math.CO|            11 pages|                NULL|0704.0004|   NULL|             unknown|  NULL|        David Callan|A determinant of ...| 2007-05-23|[{\"version\":\"v1\",...|   NULL|   NULL|   NULL|\n",
      "|  Partial cubes a...|  Sergei Ovchinnikov|[[Ovchinnikov, Se...|             math.CO|36 pages, 17 figures|                NULL|0704.0010|   NULL|             unknown|  NULL|  Sergei Ovchinnikov|Partial cubes: st...| 2007-05-23|[{\"version\":\"v1\",...|   NULL|   NULL|   NULL|\n",
      "|  In this paper w...|Clifton Cunningha...|[[Cunningham, Cli...|     math.NT math.AG|14 pages; title c...|                NULL|0704.0011|   NULL|http://arxiv.org/...|  NULL|  Clifton Cunningham|Computing genus 2...| 2008-08-20|[{\"version\":\"v1\",...|   NULL|   NULL|   NULL|\n",
      "|  In this article...|        Koichi Fujii| [[Fujii, Koichi, ]]|     math.CA math.AT|  18 pages, 1 figure|                NULL|0704.0014|   NULL|             unknown|  NULL|        Koichi Fujii|Iterated integral...| 2009-09-29|[{\"version\":\"v1\",...|   NULL|   NULL|   NULL|\n",
      "|  In this note we...|         Norio Konno|  [[Konno, Norio, ]]|     math.PR math.AG|6 pages, Journal-...|                NULL|0704.0019|   NULL|             unknown|  NULL|         Norio Konno|Approximation for...| 2007-06-23|[{\"version\":\"v1\",...|   NULL|   NULL|   NULL|\n",
      "|  We present Lie ...|Simon J.A. Malham...|[[Malham, Simon J...|             math.NA| 20 pages, 4 figures|                NULL|0704.0022|   NULL|             unknown|  NULL|        Simon Malham|Stochastic Lie gr...| 2007-10-16|[{\"version\":\"v1\",...|   NULL|   NULL|   NULL|\n",
      "|  Zero-divisors (...|Robert P. C. de M...|[[de Marrais, Rob...|             math.RA|31 pp. Second of ...|                NULL|0704.0026|   NULL|             unknown|  NULL|Robert P. C. de M...|Placeholder Subst...| 2007-11-22|[{\"version\":\"v1\",...|   NULL|   NULL|   NULL|\n",
      "|  We prove pfaffi...|  P\\'eter E. Frenkel|[[Frenkel, Péter ...|     math.CA math.PR|            10 pages|                NULL|0704.0028|   NULL|             unknown|  NULL|  P\\'eter E. Frenkel|Pfaffians, hafnia...| 2014-07-31|[{\"version\":\"v1\",...|   NULL|   NULL|   NULL|\n",
      "|  As in the cases...|          Mihai Popa|   [[Popa, Mihai, ]]|     math.OA math.FA|Final version, pu...|                NULL|0704.0040|   NULL|http://arxiv.org/...|  NULL|          Mihai Popa|Multilinear funct...| 2008-09-05|[{\"version\":\"v1\",...|   NULL|   NULL|   NULL|\n",
      "|  We formulate a ...|   Debashish Goswami|[[Goswami, Debash...|math.QA math-ph m...|improvements: (i)...|10.1007/s00220-00...|0704.0041|   NULL|             unknown|  NULL|   Debashish Goswami|Quantum Group of ...| 2009-11-13|[{\"version\":\"v1\",...|   NULL|   NULL|   NULL|\n",
      "|  In a quantum me...|I. Csiszar, F. Hi...|[[Csiszar, I., ],...|quant-ph cs.IT ma...|LATEX file, 11 pages|   10.1063/1.2779138|0704.0046|   NULL|             unknown|  NULL|          Denes Petz|A limit relation ...| 2009-11-13|[{\"version\":\"v1\",...|   NULL|   NULL|   NULL|\n",
      "|  We present an a...|      Mikkel {\\O}bro|  [[Øbro, Mikkel, ]]|             math.CO|           17 pages.|                NULL|0704.0049|   NULL|             unknown|  NULL|      Mikkel {\\O}bro|An algorithm for ...| 2007-05-23|[{\"version\":\"v1\",...|   NULL|   NULL|   NULL|\n",
      "|  The aim of the ...|Nabil L. Youssef,...|[[Youssef, Nabil ...|       math.DG gr-qc|32 pages, LaTeX f...|                NULL|0704.0053|   NULL|             unknown|  NULL|     Nabil Youssef L|A Global Approach...| 2009-04-20|[{\"version\":\"v1\",...|   NULL|   NULL|   NULL|\n",
      "|  Intersection bo...|         Boris Rubin|  [[Rubin, Boris, ]]|             math.FA|            38 pages|                NULL|0704.0061|   NULL|             unknown|  NULL|         Boris Rubin|Intersection Bodi...| 2007-05-23|[{\"version\":\"v1\",...|   NULL|   NULL|   NULL|\n",
      "|  We introduce a ...|         A. I. Molev|  [[Molev, A. I., ]]|     math.AG math.CO|21 pages, referen...|                NULL|0704.0065|   NULL|             unknown|  NULL|     Alexander Molev|Littlewood-Richar...| 2009-06-03|[{\"version\":\"v1\",...|   NULL|   NULL|   NULL|\n",
      "|  In the article ...| Branko J. Malesevic|[[Malesevic, Bran...|     math.NT math.CV|Accepted in Rocky...|                NULL|0704.0068|   NULL|             unknown|  NULL|    Branko Malesevic|A Note About the ...| 2007-06-13|[{\"version\":\"v1\",...|   NULL|   NULL|   NULL|\n",
      "|  The goal of thi...|   John W. Robertson|[[Robertson, John...|             math.DS|            38 pages|                NULL|0704.0069|   NULL|             unknown|  NULL|      John Robertson|Dynamical Objects...| 2010-01-08|[{\"version\":\"v1\",...|   NULL|   NULL|   NULL|\n",
      "|  In present pape...|     Yu.N. Kosovtsov|[[Kosovtsov, Yu. ...|     math-ph math.MP|13 pages; Submitt...|                NULL|0704.0072|   NULL|             unknown|  NULL|     Yurii Kosovtsov|The decomposition...| 2007-05-23|[{\"version\":\"v1\",...|   NULL|   NULL|   NULL|\n",
      "|  We treat Koll\\'...|        Osamu Fujino| [[Fujino, Osamu, ]]|             math.AG|22 pages; a minor...|                NULL|0704.0073|   NULL|http://arxiv.org/...|  NULL|        Osamu Fujino|A transcendental ...| 2012-03-06|[{\"version\":\"v1\",...|   NULL|   NULL|   NULL|\n",
      "+--------------------+--------------------+--------------------+--------------------+--------------------+--------------------+---------+-------+--------------------+------+--------------------+--------------------+-----------+--------------------+-------+-------+-------+\n",
      "only showing top 20 rows\n",
      "\n"
     ]
    }
   ],
   "source": [
    "df.where(df[\"categories\"].ilike('%math%')).show()"
   ]
  },
  {
   "cell_type": "code",
   "execution_count": 73,
   "metadata": {},
   "outputs": [],
   "source": [
    "df.createOrReplaceTempView(\"books\")"
   ]
  },
  {
   "cell_type": "code",
   "execution_count": 222,
   "metadata": {},
   "outputs": [
    {
     "name": "stdout",
     "output_type": "stream",
     "text": [
      "+------------------------------------------------------------------------------------------------------------------------------------------------------------------------------------------------------------------------------------------------------------------------------------------------------------------------------------------------------+\n",
      "|comments                                                                                                                                                                                                                                                                                                                                              |\n",
      "+------------------------------------------------------------------------------------------------------------------------------------------------------------------------------------------------------------------------------------------------------------------------------------------------------------------------------------------------------+\n",
      "|To appear in Graphs and Combinatorics                                                                                                                                                                                                                                                                                                                 |\n",
      "|11 pages                                                                                                                                                                                                                                                                                                                                              |\n",
      "|36 pages, 17 figures                                                                                                                                                                                                                                                                                                                                  |\n",
      "|14 pages; title changed; to appear in Experimental Mathematics                                                                                                                                                                                                                                                                                        |\n",
      "|18 pages, 1 figure                                                                                                                                                                                                                                                                                                                                    |\n",
      "|6 pages, Journal-ref added                                                                                                                                                                                                                                                                                                                            |\n",
      "|20 pages, 4 figures                                                                                                                                                                                                                                                                                                                                   |\n",
      "|31 pp. Second of 3-part \"theorem/proof\" exposition of 78-slide\\n  Powerpoint from Wolfram Science's NKS 2006, available at\\n  http://wolframscience.com/conference/2006/presentations/materials/demarrais.ppt\\n  [v2: small fixes][v3: Added new Appendix B and small number of corrections\\n  (pp. 7, 14, 20) RE: 2nd type of box-kite flow pattern.]|\n",
      "|10 pages                                                                                                                                                                                                                                                                                                                                              |\n",
      "|Final version, published                                                                                                                                                                                                                                                                                                                              |\n",
      "|improvements: (i) more general approach through quantum families of\\n  isometries, following Woronowicz and Soltan's ideas; (ii) construction of\\n  equivaraint spectral triples. also some minor changes. Improved and enlarged\\n  version of ICTP preprint IC/2007/017                                                                              |\n",
      "|LATEX file, 11 pages                                                                                                                                                                                                                                                                                                                                  |\n",
      "|17 pages.                                                                                                                                                                                                                                                                                                                                             |\n",
      "|32 pages, LaTeX file, Abstract and Introduction modified. Journal-ref\\n  removed (it was entered by mistake)                                                                                                                                                                                                                                          |\n",
      "|38 pages                                                                                                                                                                                                                                                                                                                                              |\n",
      "|21 pages, reference to independent work of V. Kreiman was added                                                                                                                                                                                                                                                                                       |\n",
      "|Accepted in Rocky Mountain Journal of mathematics                                                                                                                                                                                                                                                                                                     |\n",
      "|38 pages                                                                                                                                                                                                                                                                                                                                              |\n",
      "|13 pages; Submitted to the 10th International Workshop in Computer\\n  Algebra in Scientific Computing, CASC 2007                                                                                                                                                                                                                                      |\n",
      "|22 pages; a minor revision of the preprint circulated in January\\n  2006, v2: minor modifications, v3: final version, to appear in Osaka J. Math                                                                                                                                                                                                      |\n",
      "+------------------------------------------------------------------------------------------------------------------------------------------------------------------------------------------------------------------------------------------------------------------------------------------------------------------------------------------------------+\n",
      "only showing top 20 rows\n",
      "\n"
     ]
    }
   ],
   "source": [
    "spark.sql(\"\"\" \n",
    "    SELECT \n",
    "            comments\n",
    "    FROM\n",
    "          BOOKS\n",
    "    WHERE\n",
    "          categories ILIKE '%math%'\n",
    "\"\"\").show(truncate=False)"
   ]
  },
  {
   "cell_type": "code",
   "execution_count": 142,
   "metadata": {},
   "outputs": [
    {
     "name": "stdout",
     "output_type": "stream",
     "text": [
      "+---------------------------------------------------------------------------------------------------------------+\n",
      "|versions                                                                                                       |\n",
      "+---------------------------------------------------------------------------------------------------------------+\n",
      "|[{Mon, 2 Apr 2007 19:18:42 GMT, v1}, {Tue, 24 Jul 2007 20:10:27 GMT, v2}]                                      |\n",
      "|[{Sat, 31 Mar 2007 02:26:18 GMT, v1}, {Sat, 13 Dec 2008 17:26:00 GMT, v2}]                                     |\n",
      "|[{Sun, 1 Apr 2007 20:46:54 GMT, v1}, {Sat, 8 Dec 2007 23:47:24 GMT, v2}, {Sun, 13 Jan 2008 00:36:28 GMT, v3}]  |\n",
      "|[{Sat, 31 Mar 2007 03:16:14 GMT, v1}]                                                                          |\n",
      "|[{Sat, 31 Mar 2007 04:24:59 GMT, v1}]                                                                          |\n",
      "|[{Sat, 31 Mar 2007 04:27:22 GMT, v1}, {Wed, 22 Aug 2007 22:42:11 GMT, v2}]                                     |\n",
      "|[{Sat, 31 Mar 2007 04:47:20 GMT, v1}, {Thu, 10 Apr 2008 08:42:28 GMT, v2}, {Tue, 1 Jul 2008 18:54:28 GMT, v3}] |\n",
      "|[{Sat, 31 Mar 2007 05:10:16 GMT, v1}]                                                                          |\n",
      "|[{Sat, 31 Mar 2007 05:32:49 GMT, v1}, {Tue, 19 Aug 2008 04:46:47 GMT, v2}, {Wed, 20 Aug 2008 13:15:09 GMT, v3}]|\n",
      "|[{Sun, 1 Apr 2007 12:04:13 GMT, v1}]                                                                           |\n",
      "|[{Mon, 2 Apr 2007 18:10:09 GMT, v1}, {Mon, 10 Mar 2008 04:18:38 GMT, v2}]                                      |\n",
      "|[{Sat, 31 Mar 2007 07:04:26 GMT, v1}]                                                                          |\n",
      "|[{Sat, 31 Mar 2007 07:38:48 GMT, v1}]                                                                          |\n",
      "|[{Mon, 2 Apr 2007 08:58:27 GMT, v1}, {Sat, 21 Apr 2007 17:16:20 GMT, v2}]                                      |\n",
      "|[{Sat, 31 Mar 2007 08:12:35 GMT, v1}, {Sat, 23 Jun 2007 19:58:14 GMT, v2}]                                     |\n",
      "|[{Sat, 31 Mar 2007 09:49:10 GMT, v1}]                                                                          |\n",
      "|[{Sat, 31 Mar 2007 12:57:59 GMT, v1}, {Tue, 24 Jul 2007 04:01:20 GMT, v2}]                                     |\n",
      "|[{Sat, 31 Mar 2007 11:05:53 GMT, v1}, {Tue, 16 Oct 2007 10:30:55 GMT, v2}]                                     |\n",
      "|[{Sat, 31 Mar 2007 11:42:13 GMT, v1}]                                                                          |\n",
      "|[{Sat, 31 Mar 2007 11:44:22 GMT, v1}]                                                                          |\n",
      "+---------------------------------------------------------------------------------------------------------------+\n",
      "only showing top 20 rows\n",
      "\n"
     ]
    }
   ],
   "source": [
    "df.select(df[\"versions\"]).show(truncate=False)"
   ]
  },
  {
   "cell_type": "code",
   "execution_count": 92,
   "metadata": {},
   "outputs": [],
   "source": [
    "from pyspark.sql.functions import length, avg, col"
   ]
  },
  {
   "cell_type": "code",
   "execution_count": 93,
   "metadata": {},
   "outputs": [
    {
     "name": "stderr",
     "output_type": "stream",
     "text": [
      "                                                                                \r"
     ]
    },
    {
     "data": {
      "text/plain": [
       "1567634"
      ]
     },
     "execution_count": 93,
     "metadata": {},
     "output_type": "execute_result"
    }
   ],
   "source": [
    "df.where(length(df[\"abstract\"])>5).count()"
   ]
  },
  {
   "cell_type": "code",
   "execution_count": 77,
   "metadata": {},
   "outputs": [
    {
     "name": "stderr",
     "output_type": "stream",
     "text": [
      "[Stage 27:===============================================>        (21 + 4) / 25]\r"
     ]
    },
    {
     "name": "stdout",
     "output_type": "stream",
     "text": [
      "+--------+\n",
      "|count(1)|\n",
      "+--------+\n",
      "| 1567634|\n",
      "+--------+\n",
      "\n"
     ]
    },
    {
     "name": "stderr",
     "output_type": "stream",
     "text": [
      "                                                                                \r"
     ]
    }
   ],
   "source": [
    "spark.sql(\"\"\"\n",
    "    SELECT\n",
    "          COUNT(1)\n",
    "    FROM\n",
    "          books\n",
    "    WHERE\n",
    "          CHAR_LENGTH(abstract)>5\n",
    "\"\"\").show()"
   ]
  },
  {
   "cell_type": "code",
   "execution_count": 64,
   "metadata": {},
   "outputs": [
    {
     "name": "stderr",
     "output_type": "stream",
     "text": [
      "[Stage 18:===================================================>    (23 + 2) / 25]\r"
     ]
    },
    {
     "name": "stdout",
     "output_type": "stream",
     "text": [
      "+--------------------+\n",
      "|             license|\n",
      "+--------------------+\n",
      "|http://arxiv.org/...|\n",
      "|             unknown|\n",
      "|http://creativeco...|\n",
      "|http://creativeco...|\n",
      "|http://creativeco...|\n",
      "|http://creativeco...|\n",
      "|http://creativeco...|\n",
      "|http://creativeco...|\n",
      "+--------------------+\n",
      "\n"
     ]
    },
    {
     "name": "stderr",
     "output_type": "stream",
     "text": [
      "                                                                                \r"
     ]
    }
   ],
   "source": [
    "spark.sql(\"\"\"\n",
    "    SELECT\n",
    "          DISTINCT(license)\n",
    "    FROM\n",
    "          books\n",
    "    WHERE\n",
    "          abstract REGEXP '%\\(([A-Za-z][^_/\\\\<>]{5,})\\)%'\n",
    "\"\"\").show()"
   ]
  },
  {
   "cell_type": "code",
   "execution_count": 202,
   "metadata": {},
   "outputs": [],
   "source": [
    "from pyspark.sql.functions import avg, col, regexp_extract, when, mean ,lit, filter, transform, struct, to_timestamp, regexp_replace, element_at\n"
   ]
  },
  {
   "cell_type": "code",
   "execution_count": 141,
   "metadata": {},
   "outputs": [
    {
     "name": "stdout",
     "output_type": "stream",
     "text": [
      "+---------------------------------------------------------------------------------------------------------------+\n",
      "|versions                                                                                                       |\n",
      "+---------------------------------------------------------------------------------------------------------------+\n",
      "|[{Mon, 2 Apr 2007 19:18:42 GMT, v1}, {Tue, 24 Jul 2007 20:10:27 GMT, v2}]                                      |\n",
      "|[{Sat, 31 Mar 2007 02:26:18 GMT, v1}, {Sat, 13 Dec 2008 17:26:00 GMT, v2}]                                     |\n",
      "|[{Sun, 1 Apr 2007 20:46:54 GMT, v1}, {Sat, 8 Dec 2007 23:47:24 GMT, v2}, {Sun, 13 Jan 2008 00:36:28 GMT, v3}]  |\n",
      "|[{Sat, 31 Mar 2007 03:16:14 GMT, v1}]                                                                          |\n",
      "|[{Sat, 31 Mar 2007 04:24:59 GMT, v1}]                                                                          |\n",
      "|[{Sat, 31 Mar 2007 04:27:22 GMT, v1}, {Wed, 22 Aug 2007 22:42:11 GMT, v2}]                                     |\n",
      "|[{Sat, 31 Mar 2007 04:47:20 GMT, v1}, {Thu, 10 Apr 2008 08:42:28 GMT, v2}, {Tue, 1 Jul 2008 18:54:28 GMT, v3}] |\n",
      "|[{Sat, 31 Mar 2007 05:10:16 GMT, v1}]                                                                          |\n",
      "|[{Sat, 31 Mar 2007 05:32:49 GMT, v1}, {Tue, 19 Aug 2008 04:46:47 GMT, v2}, {Wed, 20 Aug 2008 13:15:09 GMT, v3}]|\n",
      "|[{Sun, 1 Apr 2007 12:04:13 GMT, v1}]                                                                           |\n",
      "|[{Mon, 2 Apr 2007 18:10:09 GMT, v1}, {Mon, 10 Mar 2008 04:18:38 GMT, v2}]                                      |\n",
      "|[{Sat, 31 Mar 2007 07:04:26 GMT, v1}]                                                                          |\n",
      "|[{Sat, 31 Mar 2007 07:38:48 GMT, v1}]                                                                          |\n",
      "|[{Mon, 2 Apr 2007 08:58:27 GMT, v1}, {Sat, 21 Apr 2007 17:16:20 GMT, v2}]                                      |\n",
      "|[{Sat, 31 Mar 2007 08:12:35 GMT, v1}, {Sat, 23 Jun 2007 19:58:14 GMT, v2}]                                     |\n",
      "|[{Sat, 31 Mar 2007 09:49:10 GMT, v1}]                                                                          |\n",
      "|[{Sat, 31 Mar 2007 12:57:59 GMT, v1}, {Tue, 24 Jul 2007 04:01:20 GMT, v2}]                                     |\n",
      "|[{Sat, 31 Mar 2007 11:05:53 GMT, v1}, {Tue, 16 Oct 2007 10:30:55 GMT, v2}]                                     |\n",
      "|[{Sat, 31 Mar 2007 11:42:13 GMT, v1}]                                                                          |\n",
      "|[{Sat, 31 Mar 2007 11:44:22 GMT, v1}]                                                                          |\n",
      "+---------------------------------------------------------------------------------------------------------------+\n",
      "only showing top 20 rows\n",
      "\n"
     ]
    }
   ],
   "source": [
    "df.select(df['versions']).show(truncate=False)"
   ]
  },
  {
   "cell_type": "code",
   "execution_count": 225,
   "metadata": {},
   "outputs": [
    {
     "name": "stdout",
     "output_type": "stream",
     "text": [
      "+---------------------------------------------------------------------------------------------------------------------------------------------------------------------------------------------------------------------------------------------------------------------------------------------------------------------------+------------------------------------------+\n",
      "|comments                                                                                                                                                                                                                                                                                                                   |regexp_extract(comments, (\\d+)\\s*pages, 0)|\n",
      "+---------------------------------------------------------------------------------------------------------------------------------------------------------------------------------------------------------------------------------------------------------------------------------------------------------------------------+------------------------------------------+\n",
      "|37 pages, 15 figures; published version                                                                                                                                                                                                                                                                                    |37 pages                                  |\n",
      "|To appear in Graphs and Combinatorics                                                                                                                                                                                                                                                                                      |                                          |\n",
      "|23 pages, 3 figures                                                                                                                                                                                                                                                                                                        |23 pages                                  |\n",
      "|11 pages                                                                                                                                                                                                                                                                                                                   |11 pages                                  |\n",
      "|6 pages, 4 figures, accepted by PRA                                                                                                                                                                                                                                                                                        |6 pages                                   |\n",
      "|16 pages, no figures. Typos corrected to match published version                                                                                                                                                                                                                                                           |16 pages                                  |\n",
      "|Minor corrections                                                                                                                                                                                                                                                                                                          |                                          |\n",
      "|36 pages, 17 figures                                                                                                                                                                                                                                                                                                       |36 pages                                  |\n",
      "|14 pages; title changed; to appear in Experimental Mathematics                                                                                                                                                                                                                                                             |14 pages                                  |\n",
      "|18 pages, 1 figure                                                                                                                                                                                                                                                                                                         |18 pages                                  |\n",
      "|22 pages; signs and coefficients adjusted for anticommuting\\n  superfields, section 4.3 changed accordingly, reference added                                                                                                                                                                                               |22 pages                                  |\n",
      "|17 pages, 3 figures and 1 table                                                                                                                                                                                                                                                                                            |17 pages                                  |\n",
      "|10 pages, 11 figures (figures 3, 4, 7 and 8 at reduced resolution,\\n  originals available on request). Accepted for publication in Monthly Notices\\n  of the Royal Astronomical Society                                                                                                                                    |10 pages                                  |\n",
      "|20 pages, v2: an overall sign and typos corrected                                                                                                                                                                                                                                                                          |20 pages                                  |\n",
      "|6 pages, Journal-ref added                                                                                                                                                                                                                                                                                                 |6 pages                                   |\n",
      "|21 pages, 13 postscript figures, submitted to Phys. Rev. D,\\n  contributed to 42nd Rencontres de Moriond: QCD and Hadronic Interactions                                                                                                                                                                                    |21 pages                                  |\n",
      "|5 pages, 4 figures                                                                                                                                                                                                                                                                                                         |5 pages                                   |\n",
      "|20 pages, 4 figures                                                                                                                                                                                                                                                                                                        |20 pages                                  |\n",
      "|4 pages, 2 figures, to appear in the proceedings of the conference\\n  Science with ALMA: a new era for Astrophysics, Spain, 2006                                                                                                                                                                                           |4 pages                                   |\n",
      "|First appeared in Prof. B. Hillebrands' research group Annual Report\\n  2005 (http://www.physik.uni-kl.de/w_hilleb/ann05.html); also presented at\\n  Intermag'2006 Conference: M. Kostylev, A.A. Serga, and B. Hillebrands,\\n  Digests of International Magnetic Conference, May 8-12, 2006, San Diego, USA,\\n  FV03 (2006)|                                          |\n",
      "+---------------------------------------------------------------------------------------------------------------------------------------------------------------------------------------------------------------------------------------------------------------------------------------------------------------------------+------------------------------------------+\n",
      "only showing top 20 rows\n",
      "\n"
     ]
    }
   ],
   "source": [
    "df.select(\n",
    "    \"comments\",\n",
    "    regexp_extract(\"comments\", r'(\\d+)\\s*pages',0)\n",
    ").show(truncate=False)"
   ]
  },
  {
   "cell_type": "code",
   "execution_count": 237,
   "metadata": {},
   "outputs": [
    {
     "name": "stderr",
     "output_type": "stream",
     "text": [
      "[Stage 140:================================================>      (22 + 3) / 25]\r"
     ]
    },
    {
     "name": "stdout",
     "output_type": "stream",
     "text": [
      "+---------+--------------------+\n",
      "|month_day|avg(number_of_pages)|\n",
      "+---------+--------------------+\n",
      "|      Sun|  13.596806792783736|\n",
      "|      Mon|  13.775644641277932|\n",
      "|      Thu|   13.68858755347439|\n",
      "|      Sat|  13.252786575540368|\n",
      "|      Wed|   13.60628228710771|\n",
      "|      Tue|  13.604387705619963|\n",
      "|      Fri|  13.546319933878106|\n",
      "+---------+--------------------+\n",
      "\n"
     ]
    },
    {
     "name": "stderr",
     "output_type": "stream",
     "text": [
      "                                                                                \r"
     ]
    }
   ],
   "source": [
    "df_avg = df.select(\n",
    "    when(\n",
    "        regexp_extract(\"comments\", r'(\\d+)\\s*pages', 1) == lit(\"\"), \n",
    "        0\n",
    "    ).otherwise(\n",
    "        regexp_extract(\"comments\", r'(\\d+)\\s*pages', 1)\n",
    "    ).cast(\"int\").alias(\"number_of_pages\"),\n",
    "    \"comments\",\n",
    "    element_at(filter(\n",
    "        \"versions\",\n",
    "        lambda v: v[\"version\"] == \"v1\"\n",
    "    ), 1).alias(\"version_filter\")\n",
    "    )\n",
    "\n",
    "df_avg.groupBy(regexp_extract(df_avg.version_filter.created, \"^([^,]+)\", 1).alias(\"month_day\")).agg(mean(\"number_of_pages\")).show()"
   ]
  },
  {
   "cell_type": "code",
   "execution_count": 236,
   "metadata": {},
   "outputs": [
    {
     "name": "stdout",
     "output_type": "stream",
     "text": [
      "+---------------+--------------------+--------------------+\n",
      "|number_of_pages|            comments|      version_filter|\n",
      "+---------------+--------------------+--------------------+\n",
      "|             37|37 pages, 15 figu...|{Mon, 2 Apr 2007 ...|\n",
      "|              0|To appear in Grap...|{Sat, 31 Mar 2007...|\n",
      "|             23| 23 pages, 3 figures|{Sun, 1 Apr 2007 ...|\n",
      "|             11|            11 pages|{Sat, 31 Mar 2007...|\n",
      "|              6|6 pages, 4 figure...|{Sat, 31 Mar 2007...|\n",
      "|             16|16 pages, no figu...|{Sat, 31 Mar 2007...|\n",
      "|              0|   Minor corrections|{Sat, 31 Mar 2007...|\n",
      "|             36|36 pages, 17 figures|{Sat, 31 Mar 2007...|\n",
      "|             14|14 pages; title c...|{Sat, 31 Mar 2007...|\n",
      "|             18|  18 pages, 1 figure|{Sun, 1 Apr 2007 ...|\n",
      "|             22|22 pages; signs a...|{Mon, 2 Apr 2007 ...|\n",
      "|             17|17 pages, 3 figur...|{Sat, 31 Mar 2007...|\n",
      "|             10|10 pages, 11 figu...|{Sat, 31 Mar 2007...|\n",
      "|             20|20 pages, v2: an ...|{Mon, 2 Apr 2007 ...|\n",
      "|              6|6 pages, Journal-...|{Sat, 31 Mar 2007...|\n",
      "|             21|21 pages, 13 post...|{Sat, 31 Mar 2007...|\n",
      "|              5|  5 pages, 4 figures|{Sat, 31 Mar 2007...|\n",
      "|             20| 20 pages, 4 figures|{Sat, 31 Mar 2007...|\n",
      "|              4|4 pages, 2 figure...|{Sat, 31 Mar 2007...|\n",
      "|              0|First appeared in...|{Sat, 31 Mar 2007...|\n",
      "+---------------+--------------------+--------------------+\n",
      "only showing top 20 rows\n",
      "\n"
     ]
    }
   ],
   "source": [
    "df_avg.show()"
   ]
  },
  {
   "cell_type": "code",
   "execution_count": null,
   "metadata": {},
   "outputs": [],
   "source": [
    "df_avg.groupBy(\"month_day\").agg(mean(\"number_of_pages\")).show()\n"
   ]
  },
  {
   "cell_type": "code",
   "execution_count": 208,
   "metadata": {},
   "outputs": [
    {
     "name": "stdout",
     "output_type": "stream",
     "text": [
      "+---------------+--------------------+--------------------+\n",
      "|number_of_pages|            comments|      version_filter|\n",
      "+---------------+--------------------+--------------------+\n",
      "|             37|37 pages, 15 figu...|{Mon, 2 Apr 2007 ...|\n",
      "|              0|To appear in Grap...|{Sat, 31 Mar 2007...|\n",
      "|             23| 23 pages, 3 figures|{Sun, 1 Apr 2007 ...|\n",
      "|             11|            11 pages|{Sat, 31 Mar 2007...|\n",
      "|              6|6 pages, 4 figure...|{Sat, 31 Mar 2007...|\n",
      "|             16|16 pages, no figu...|{Sat, 31 Mar 2007...|\n",
      "|              0|   Minor corrections|{Sat, 31 Mar 2007...|\n",
      "|             36|36 pages, 17 figures|{Sat, 31 Mar 2007...|\n",
      "|             14|14 pages; title c...|{Sat, 31 Mar 2007...|\n",
      "|             18|  18 pages, 1 figure|{Sun, 1 Apr 2007 ...|\n",
      "|             22|22 pages; signs a...|{Mon, 2 Apr 2007 ...|\n",
      "|             17|17 pages, 3 figur...|{Sat, 31 Mar 2007...|\n",
      "|             10|10 pages, 11 figu...|{Sat, 31 Mar 2007...|\n",
      "|             20|20 pages, v2: an ...|{Mon, 2 Apr 2007 ...|\n",
      "|              6|6 pages, Journal-...|{Sat, 31 Mar 2007...|\n",
      "|             21|21 pages, 13 post...|{Sat, 31 Mar 2007...|\n",
      "|              5|  5 pages, 4 figures|{Sat, 31 Mar 2007...|\n",
      "|             20| 20 pages, 4 figures|{Sat, 31 Mar 2007...|\n",
      "|              4|4 pages, 2 figure...|{Sat, 31 Mar 2007...|\n",
      "|              0|First appeared in...|{Sat, 31 Mar 2007...|\n",
      "+---------------+--------------------+--------------------+\n",
      "only showing top 20 rows\n",
      "\n"
     ]
    }
   ],
   "source": [
    "df_avg.show()"
   ]
  },
  {
   "cell_type": "code",
   "execution_count": 213,
   "metadata": {},
   "outputs": [
    {
     "name": "stderr",
     "output_type": "stream",
     "text": [
      "[Stage 106:====================================================>  (24 + 1) / 25]\r"
     ]
    },
    {
     "name": "stdout",
     "output_type": "stream",
     "text": [
      "+------------+---------------------+\n",
      "|created_date|average_pages_per_day|\n",
      "+------------+---------------------+\n",
      "|         Sun|   18.438584024595393|\n",
      "|         Mon|    17.98149385325062|\n",
      "|         Thu|    17.79319656963583|\n",
      "|         Sat|    17.91937010713588|\n",
      "|         Wed|    17.82846668144208|\n",
      "|         Tue|   17.811519809804267|\n",
      "|         Fri|   17.651086789289675|\n",
      "+------------+---------------------+\n",
      "\n"
     ]
    },
    {
     "name": "stderr",
     "output_type": "stream",
     "text": [
      "                                                                                \r"
     ]
    }
   ],
   "source": [
    "from pyspark.sql import functions as F\n",
    "\n",
    "# Filtrar apenas a \"versão 1\" dos documentos\n",
    "df_version1 = df.withColumn(\"version_1\", F.expr(\"filter(versions, v -> v.version = 'v1')\")) \\\n",
    "    .withColumn(\"version_1_created\", F.expr(\"version_1[0].created\"))\n",
    "\n",
    "df_version1 = df_version1.withColumn(\n",
    "    \"created_date\",\n",
    "    F.trim(F.split(F.col(\"version_1_created\"), \",\")[0])\n",
    ")\n",
    "\n",
    "# Extrair o número de páginas do campo `comments` usando expressão regular\n",
    "# A regex \"\\d+\" captura a primeira sequência de dígitos antes da palavra \"pages\"\n",
    "df_version1 = df_version1.withColumn(\n",
    "    \"num_pages\",\n",
    "    F.regexp_extract(F.col(\"comments\"), r\"(\\d+)\\s*pages\", 1).cast(\"integer\")\n",
    ")\n",
    "\n",
    "# Agrupar por data e calcular a média de páginas por dia\n",
    "df_avg_pages_per_day = df_version1.groupBy(\"created_date\") \\\n",
    "    .agg(F.avg(\"num_pages\").alias(\"average_pages_per_day\"))\n",
    "\n",
    "# Exibir o resultado\n",
    "df_avg_pages_per_day.show()"
   ]
  },
  {
   "cell_type": "code",
   "execution_count": 186,
   "metadata": {},
   "outputs": [
    {
     "name": "stderr",
     "output_type": "stream",
     "text": [
      "[Stage 69:============================================>           (20 + 5) / 25]\r"
     ]
    },
    {
     "name": "stdout",
     "output_type": "stream",
     "text": [
      "+--------------------+\n",
      "|avg(number_of_pages)|\n",
      "+--------------------+\n",
      "|   325.5782004125984|\n",
      "+--------------------+\n",
      "\n"
     ]
    },
    {
     "name": "stderr",
     "output_type": "stream",
     "text": [
      "                                                                                \r"
     ]
    }
   ],
   "source": [
    "df_avg.select(\n",
    "    mean(\"number_of_pages\")\n",
    ").groupBy()"
   ]
  },
  {
   "cell_type": "code",
   "execution_count": 179,
   "metadata": {},
   "outputs": [
    {
     "name": "stdout",
     "output_type": "stream",
     "text": [
      "root\n",
      " |-- number_of_pages: integer (nullable = true)\n",
      " |-- version_filter: array (nullable = true)\n",
      " |    |-- element: struct (containsNull = true)\n",
      " |    |    |-- created: string (nullable = true)\n",
      " |    |    |-- version: string (nullable = true)\n",
      "\n"
     ]
    }
   ],
   "source": [
    "df_avg.printSchema()"
   ]
  },
  {
   "cell_type": "code",
   "execution_count": 78,
   "metadata": {},
   "outputs": [
    {
     "name": "stdout",
     "output_type": "stream",
     "text": [
      "root\n",
      " |-- abstract: string (nullable = true)\n",
      " |-- authors: string (nullable = true)\n",
      " |-- authors_parsed: array (nullable = true)\n",
      " |    |-- element: array (containsNull = true)\n",
      " |    |    |-- element: string (containsNull = true)\n",
      " |-- categories: string (nullable = true)\n",
      " |-- comments: string (nullable = true)\n",
      " |-- doi: string (nullable = true)\n",
      " |-- id: string (nullable = true)\n",
      " |-- journal: string (nullable = true)\n",
      " |-- license: string (nullable = false)\n",
      " |-- report: string (nullable = true)\n",
      " |-- submitter: string (nullable = true)\n",
      " |-- title: string (nullable = true)\n",
      " |-- update_date: date (nullable = true)\n",
      " |-- versions: string (nullable = true)\n",
      " |-- element: string (nullable = true)\n",
      " |-- created: string (nullable = true)\n",
      " |-- version: array (nullable = true)\n",
      " |    |-- element: struct (containsNull = true)\n",
      " |    |    |-- created: string (nullable = true)\n",
      " |    |    |-- version: string (nullable = true)\n",
      "\n"
     ]
    }
   ],
   "source": [
    "df.printSchema()"
   ]
  },
  {
   "cell_type": "code",
   "execution_count": 32,
   "metadata": {},
   "outputs": [
    {
     "name": "stdout",
     "output_type": "stream",
     "text": [
      "root\n",
      " |-- abstract: string (nullable = true)\n",
      " |-- authors: string (nullable = true)\n",
      " |-- authors_parsed: array (nullable = true)\n",
      " |    |-- element: array (containsNull = true)\n",
      " |    |    |-- element: string (containsNull = true)\n",
      " |-- categories: string (nullable = true)\n",
      " |-- comments: string (nullable = true)\n",
      " |-- doi: string (nullable = true)\n",
      " |-- id: string (nullable = true)\n",
      " |-- journal-ref: string (nullable = true)\n",
      " |-- license: string (nullable = true)\n",
      " |-- report-no: string (nullable = true)\n",
      " |-- submitter: string (nullable = true)\n",
      " |-- title: string (nullable = true)\n",
      " |-- update_date: string (nullable = true)\n",
      " |-- versions: array (nullable = true)\n",
      " |    |-- element: struct (containsNull = true)\n",
      " |    |    |-- created: string (nullable = true)\n",
      " |    |    |-- version: string (nullable = true)\n",
      "\n"
     ]
    }
   ],
   "source": [
    "df_infer.printSchema()"
   ]
  },
  {
   "cell_type": "code",
   "execution_count": 20,
   "metadata": {},
   "outputs": [
    {
     "data": {
      "text/plain": [
       "25"
      ]
     },
     "execution_count": 20,
     "metadata": {},
     "output_type": "execute_result"
    }
   ],
   "source": [
    "df.rdd.getNumPartitions()"
   ]
  }
 ],
 "metadata": {
  "kernelspec": {
   "display_name": "labs_spark",
   "language": "python",
   "name": "python3"
  },
  "language_info": {
   "codemirror_mode": {
    "name": "ipython",
    "version": 3
   },
   "file_extension": ".py",
   "mimetype": "text/x-python",
   "name": "python",
   "nbconvert_exporter": "python",
   "pygments_lexer": "ipython3",
   "version": "3.10.12"
  }
 },
 "nbformat": 4,
 "nbformat_minor": 2
}
